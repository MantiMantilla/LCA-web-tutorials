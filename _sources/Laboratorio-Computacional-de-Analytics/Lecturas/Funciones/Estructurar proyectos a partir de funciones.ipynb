{
 "cells": [
  {
   "cell_type": "markdown",
   "metadata": {},
   "source": [
    "<img src=\"Archivos/miad4.png\" width=800x>\n",
    "\n",
    "# ¿Qué utilidad tienen las funciones?"
   ]
  },
  {
   "cell_type": "markdown",
   "metadata": {},
   "source": [
    "En esta lectura revisaremos uno de los elementos básicos y omnipresentes de la programación: las funciones. Veremos sus características básicas y su aplicación en analítica de datos. \n",
    "\n",
    "### Utilidad y características generales de las funciones\n",
    "\n",
    "Las funciones son estructuras que reciben información de entrada, ejecutan operaciones determinadas por el programador, y retornan información de salida. Una de las principales características de las funciones es que permiten empaquetar bloques de código que se pueden re-utilizar, evitando redundancias al tiempo que dan orden conceptual al código. Además, en analítica de datos frecuentemente somos usuarios de funciones provistas en paquetes especializados, por lo cual es importante entender su funcionamiento. \n",
    "\n",
    "En programación, el principal propósito de una función es NO tener que re-escribir código para re-utilizarlo. En lugar de esto, cuando se tiene un código que sea útil usar en más de un punto, una buena idea es empaquetar ese código en una función, dándole un nombre y definiendo qué información debe recibir y qué información debe retornar; a esta información que entra o sale de la función se le conoce como parámetros o argumentos. \n",
    "\n",
    "Por ejemplo, en algún programa se podría requerir calcular el área de diferentes triángulos, y en lugar de escribir las ecuaciones necesarias cada vez que se quiera hacer el cálculo, podríamos crear una función: su nombre sería ‘calcular_area_triangulo’, recibiría como parámetros de entrada la base y la altura de un triángulo dado, y retornaría, como parámetro de salida, el área calculada para cada triángulo. \n",
    "\n",
    "Los parámetros son una característica importante de las funciones ya que, al igual que en matemáticas, las funciones se interpretan como cajas negras que transforman entradas en salidas. Sin embargo, es posible escribir funciones que no reciban o no retornen valores; en estos casos, las funciones pueden modificar algún archivo o variable previamente definidos (las funciones que no retornan un parámetro de salida se conocen como procedimientos). \n",
    "\n",
    "Una de las características principales de las funciones, y que se debe tener en cuenta al momento de concebirlas, es que se escriben de forma genérica, nunca pensando en valores. Volviendo al ejemplo de ‘calcular_area_triangulo’, la función debe saber que recibirá un valor correspondiente a la base de un triángulo (ya sea 1, 100, o 500), y un valor correspondiente a la altura (ya sea 20, 30, o 50). Lo importante es tomar esos dos valores, multiplicarlos y dividirlos entre dos, como reza la fórmula del área de un triángulo. Esto es lo que hace que la función se vuelva genérica; que se pueda usar en cualquier momento, para cualquier triángulo. Gracias a esta característica las funciones pueden dar orden a un código, no solo por evitar repetir bloques de código (sobre todo cuando éstos son complejos) sino porque el simple hecho de empaquetar una serie de instrucciones bajo un nombre relacionado con el cumplimiento de un propósito (¡función!) ayuda a escribir, leer y mantener el código más fácilmente. Además, al tener una función escrita, ésta puede prestar sus servicios a más de un programa o proyecto."
   ]
  },
  {
   "cell_type": "markdown",
   "metadata": {},
   "source": [
    "### *Scripts*\n",
    "\n",
    "Un *script* es un bloque de código que ejecuta algún procedimiento. El código Python que escribimos, por ejemplo, puede ser escrito en archivos con extensión \".py\" que se invoquen desde otros archivos de código, como generalmente hacemos cuando utilizamos funciones de paquetes como `math` o `random`. De la misma forma que accedemos a esas funciones que otros han desarrollado, podemos acceder a funciones que nosotros mismos hayamos implementado en el pasado. Es común para los programadores tener archivos con funciones que les ayudan con tareas con las que se enfrentan frecuentemente. Por ejemplo, limpiar un cierto tipo de documento que se usa en la organización puede requerir tareas repetitivas. Si estas se utilizan a menudo, valdría la pena escribir un *script* que se pueda ejecutar siempre para esa tarea."
   ]
  },
  {
   "cell_type": "markdown",
   "metadata": {},
   "source": [
    "### Uso de funciones para ordenar proyectos complejos\n",
    "\n",
    "Si nos podemos valer de *scripts* propios que resuelven algún problema específico, podemos simplificar bastante los proyectos de código, pues utilizamos un archivo principal que ejecuta las tareas principales del proyecto, y archivos separados con *scripts* que proveen las funciones que se invocan desde el archivo principal. Esto permite una estructuración ordenada del proyecto y facilita su uso y mantenimiento. La siguiente imagen presenta un ejemplo de un proyecto de programación separado en diferentes archivos, cada uno de los cuales incluye funciones que podemos utilizar para diferentes propósitos. \n",
    "\n",
    "<img src=\"Archivos/virtualab.png\" width=600x>"
   ]
  },
  {
   "cell_type": "markdown",
   "metadata": {},
   "source": [
    "* El archivo \"input_cleaner.py\" contiene funciones propias que son útiles para traducir los datos de su forma original a una forma conveniente para los procesos que se les vayan a aplicar.\n",
    "* El archivo \"output_gen.py\" contiene funciones propias que son útiles para traducir el resultado plano de los análisis a un formato más fácil de convertir en una visualización o herramienta interactiva para un usuario final.\n",
    "* El archivo \"Core_Models.py\" desarrolla los modelos centrales del análisis (machine learning, optimización, etc.) apoyándose en paquetes especializados representados en el bloque \"External Modules\".\n",
    "* El archivo \"util_functions.py\" contiene funciones de apoyo que facilitan tareas para el proyecto pero que se pueden dejar \"tras bambalinas\" para no complejizar el código principal.\n",
    "* El archivo \"main.py\" es el encargado de establecer la lógica macro del proyecto. Este es el archivo que se ejecuta cuando se quiere correr el proyecto, y desde allí se invocan las funciones necesarias de los demás archivos. Es el archivo principal en el que se consginan los grandes bloques de tareas que permiten dar solución al problema planteado.\n",
    "\n",
    "Si bien no es obligatorio separar el código de esta manera (pues es solo un ejemplo, y cada comunidad de programadores va estableciendo sus propios estándares), lo cierto es que, para proyectos grandes, es recomendable fragmentar la complejidad del código, separándolo en las funciones necesarias para lograr el objetivo completo. De esta forma, el desarrollo se puede dividir entre diferentes miembros de un equipo, siempre y cuando el diseño de las funciones se haya hecho de forma que, aun si se desarrollan de forma separada, se pueda garantizar que cada una maneja entradas y salidas que le permitan interactuar correctamente con las demás."
   ]
  },
  {
   "cell_type": "markdown",
   "metadata": {},
   "source": [
    "### Uso de funciones en análisis de datos\n",
    "\n",
    "Lo primero es que, como hemos visto, muchos aspectos de análisis de datos pasan por la programación “tradicional”; aplicamos programación al momento de explorar y preparar datos, así como al momento de correr modelos y generar resultados. Por esto, todas las ventajas de trabajar con funciones se heredan en este contexto. \n",
    "\n",
    "Más específicamente, hay dos temas puntuales relacionados con funciones en análisis de datos. \n",
    "\n",
    "* Primero, que mucho del día a día del análisis de datos es utilizar paquetes especializados para exploración y análisis de datos, entonces terminamos siendo usuarios de funciones escritas por otros. La mayoría de paquetes se valen de “funciones” (entre comillas, ya que técnicamente se les llama métodos, en ese contexto) que ejecutan las tareas que nos interesan, desde leer un archivo de datos, o contar sus registros, hasta correr los modelos más sofisticados. Técnicamente, estos paquetes utilizan clases y métodos (que vienen del paradigma de programación orientada a objetos), pero la relación con las funciones es estrecha. Aunque ese no es un tema que nos interese cubrir en profundidad, vale la pena entenderlo al menos a nivel superficial para relacionarse más fácilmente con los paquetes.\n",
    "\n",
    "* Segundo, aplicar operaciones sobre grandes conjuntos de datos puede ser costoso y debe hacerse eficientemente. Muchos de los procedimientos de interés en análisis de datos ya vienen incorporados en paquetes que los implementan eficientemente. Sin embargo, muchas veces se requiere de algún procedimiento especializado (ej. un cálculo actuarial en el sector de pensiones o seguros), en cuyo caso es posible utilizar funciones propias y pasarlas a los paquetes para que las apliquen eficientemente sobre los datos. \n",
    "\n",
    "Entender las funciones es de gran utilidad en programación y va a ser muy útil a la hora de consultar la documentación de paquetes especializados en análisis de datos, cuyos servicios están implementados como funciones (métodos), por lo general."
   ]
  },
  {
   "cell_type": "code",
   "execution_count": null,
   "metadata": {},
   "outputs": [],
   "source": []
  }
 ],
 "metadata": {
  "kernelspec": {
   "display_name": "Python 3",
   "language": "python",
   "name": "python3"
  },
  "language_info": {
   "codemirror_mode": {
    "name": "ipython",
    "version": 3
   },
   "file_extension": ".py",
   "mimetype": "text/x-python",
   "name": "python",
   "nbconvert_exporter": "python",
   "pygments_lexer": "ipython3",
   "version": "3.7.6"
  }
 },
 "nbformat": 4,
 "nbformat_minor": 4
}
