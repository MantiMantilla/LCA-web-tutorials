{
 "cells": [
  {
   "cell_type": "markdown",
   "metadata": {
    "nbgrader": {
     "grade": false,
     "grade_id": "header",
     "locked": true,
     "schema_version": 3,
     "solution": false,
     "task": false
    }
   },
   "source": [
    "<img src=\"./Archivos/miad4.png\" width=800x>\n",
    "\n",
    "# Librerías para manejo de datos: `numpy` y `pandas`\n",
    "\n",
    "En este taller implementarás métodos de las librerías `numpy` y `pandas`, para integrarlos en procesos de análisis de datos."
   ]
  },
  {
   "cell_type": "markdown",
   "metadata": {
    "nbgrader": {
     "grade": false,
     "grade_id": "obj",
     "locked": true,
     "schema_version": 3,
     "solution": false,
     "task": false
    }
   },
   "source": [
    "## Habilidades en práctica\n",
    "\n",
    "Al realizar este taller podrás revisar tu progreso para:\n",
    "\n",
    "**1.** Utilizar arreglos y operaciones básicas en `numpy`. <br>\n",
    "**2.** Crear, indexar y utilizar métodos para explorar y manipular `Series` y `DataFrame` en `pandas`."
   ]
  },
  {
   "cell_type": "markdown",
   "metadata": {
    "nbgrader": {
     "grade": false,
     "grade_id": "instr",
     "locked": true,
     "schema_version": 3,
     "solution": false,
     "task": false
    }
   },
   "source": [
    "## Instrucciones\n",
    "\n",
    "En cada uno de los siguientes ejercicios deberás escribir el código solicitado estrictamente en las celdas indicadas para ello, teniendo en cuenta las siguientes recomendaciones:\n",
    "\n",
    "* No crear, eliminar o modificar celdas de este Notebook (salvo lo que se te indique), pues puede verse afectado el proceso de calificación automática.\n",
    "* La calificación se realiza de manera automática con datos diferentes a los proporcionados en este taller. Por consiguiente, tu código debe funcionar para diferentes instancias de cada uno de los ejercicios; una instancia hace referencia al valor de los parámetros.\n",
    "* La calificación de cada ejercicio depende del valor que tome la variable especificada en su enunciado. Por lo tanto, aunque declares variables adicionales en tu código, es escencial que utilices los nombres de las variables propuestas en los enunciados de los ejercicios para guardar el resultado final.\n",
    "\n",
    "Esta es una actividad calificada y, por lo tanto, debe ser resuelta individualmente.\n",
    "\n",
    "A continuación puedes ver un ejemplo de los ejercicios que encontrarás en este taller."
   ]
  },
  {
   "cell_type": "markdown",
   "metadata": {
    "nbgrader": {
     "grade": false,
     "grade_id": "ejer-import-enun",
     "locked": true,
     "schema_version": 3,
     "solution": false,
     "task": false
    }
   },
   "source": [
    "## Ejercicios\n",
    "En la siguente celda encuentras declarados los paquetes necesarios para el desarollo de este taller."
   ]
  },
  {
   "cell_type": "code",
   "execution_count": null,
   "metadata": {
    "nbgrader": {
     "grade": false,
     "grade_id": "eje-import",
     "locked": true,
     "schema_version": 3,
     "solution": false,
     "task": false
    }
   },
   "outputs": [],
   "source": [
    "# Esta celda no es modificable.\n",
    "\n",
    "import numpy as np\n",
    "import pandas as pd"
   ]
  },
  {
   "cell_type": "markdown",
   "metadata": {
    "nbgrader": {
     "grade": false,
     "grade_id": "eje-import-enun",
     "locked": true,
     "schema_version": 3,
     "solution": false,
     "task": false
    }
   },
   "source": [
    "### Ejemplo\n",
    "A continuación encuentras dos arreglos. Cada uno contiene los salarios (en USD) de los funcionarios de un área de una empresa. "
   ]
  },
  {
   "cell_type": "code",
   "execution_count": null,
   "metadata": {
    "nbgrader": {
     "grade": false,
     "grade_id": "eje-data",
     "locked": true,
     "schema_version": 3,
     "solution": false,
     "task": false
    }
   },
   "outputs": [],
   "source": [
    "# Esta celda no es modificable.\n",
    "\n",
    "mercadeo = np.array([2000, 1500, 1300, 1600])\n",
    "logistica = np.array([1800, 1600, 1200, 1100])"
   ]
  },
  {
   "cell_type": "markdown",
   "metadata": {
    "nbgrader": {
     "grade": false,
     "grade_id": "eje-task",
     "locked": true,
     "schema_version": 3,
     "solution": false,
     "task": false
    }
   },
   "source": [
    "Implementa una función llamada `suma` que reciba dos arreglos por parámetro, los una y retorne la suma de los elementos de la unión.\n",
    "\n",
    "*Esta función debe retornar un `int`.*"
   ]
  },
  {
   "cell_type": "code",
   "execution_count": null,
   "metadata": {
    "nbgrader": {
     "grade": false,
     "grade_id": "eje-sol",
     "locked": true,
     "schema_version": 3,
     "solution": false,
     "task": false
    }
   },
   "outputs": [],
   "source": [
    "# Implementa tu respuesta en esta celda.\n",
    "\n",
    "def suma(arreglo1, arreglo2):\n",
    "    \n",
    "    concatenado = np.concatenate((arreglo1,arreglo2))\n",
    "    respuesta = concatenado.sum()\n",
    "    \n",
    "    return respuesta\n",
    "\n",
    "suma(mercadeo, logistica)"
   ]
  },
  {
   "cell_type": "markdown",
   "metadata": {
    "nbgrader": {
     "grade": false,
     "grade_id": "ej1-enun",
     "locked": true,
     "schema_version": 3,
     "solution": false,
     "task": false
    }
   },
   "source": [
    "### Ejercicio 1\n",
    "A continuación encuentras dos arreglos. Cada uno contiene los salarios (en USD) de los funcionarios de un área de una empresa. "
   ]
  },
  {
   "cell_type": "code",
   "execution_count": null,
   "metadata": {
    "nbgrader": {
     "grade": false,
     "grade_id": "ej1-data",
     "locked": true,
     "schema_version": 3,
     "solution": false,
     "task": false
    }
   },
   "outputs": [],
   "source": [
    "# Esta celda no es modificable.\n",
    "\n",
    "mercadeo = np.array([2000, 1500, 1300, 1600])\n",
    "logistica = np.array([1800, 1600, 1200, 1600])"
   ]
  },
  {
   "cell_type": "markdown",
   "metadata": {
    "nbgrader": {
     "grade": false,
     "grade_id": "ej1-task",
     "locked": true,
     "schema_version": 3,
     "solution": false,
     "task": false
    }
   },
   "source": [
    "Implementa una función llamada `promedio` que reciba dos arreglos por parámetro, los una y retorne el promedio de los elementos de la unión.\n",
    "\n",
    "*Esta función debe retornar un `float`*."
   ]
  },
  {
   "cell_type": "code",
   "execution_count": null,
   "metadata": {
    "nbgrader": {
     "grade": false,
     "grade_id": "ej1-sol",
     "locked": false,
     "schema_version": 3,
     "solution": true,
     "task": false
    }
   },
   "outputs": [],
   "source": [
    "# Implementa tu respuesta en esta celda.\n",
    "\n",
    "def promedio(arreglo1, arreglo2):\n",
    "    \n",
    "    concatenado = np.concatenate((arreglo1,arreglo2))\n",
    "    respuesta = concatenado.mean()\n",
    "    \n",
    "    return respuesta\n",
    "\n",
    "promedio(mercadeo, logistica)"
   ]
  },
  {
   "cell_type": "code",
   "execution_count": null,
   "metadata": {
    "nbgrader": {
     "grade": true,
     "grade_id": "ej1-test",
     "locked": true,
     "points": 1,
     "schema_version": 3,
     "solution": false,
     "task": false
    }
   },
   "outputs": [],
   "source": [
    "## AUTO-CALIFICADOR\n",
    "\n",
    "# Base variables\n",
    "mercadeo_test = np.array([2000, 1800, 1300])\n",
    "logistica_test = np.array([1100, 1900, 1600, 1500])\n",
    "# Respuestas 1800 og  y 1600 test\n",
    "\n",
    "# Caso 1: no existe la función.\n",
    "try:\n",
    "    promedio\n",
    "    assert type(promedio) == type(lambda:None)\n",
    "except:\n",
    "    raise NotImplementedError(\"No existe una función llamada promedio.\",)\n",
    "    \n",
    "# Caso 2: la función es interrumpida por errores durante su ejecución.\n",
    "try:\n",
    "    promedio(mercadeo, logistica)\n",
    "    promedio(mercadeo_test, logistica_test)\n",
    "except:\n",
    "    raise RuntimeError(\"Tu función produce un error al ejecutarse.\")\n",
    "\n",
    "# Caso 3: no retorna un número\n",
    "assert type(promedio(mercadeo_test, logistica_test)) == np.float64, f\"Tu función debe retornar un valor de tipo {np.float64}.\"    \n",
    "       \n",
    "# Caso 4: respuesta explicita\n",
    "assert promedio(mercadeo_test, logistica_test) != 1800.0, \"Tu respuesta es incorrecta para una instancia diferente. Utiliza los parámetros.\"\n",
    "\n",
    "# Caso 5: procedimiento incorrecto\n",
    "assert promedio(mercadeo_test, logistica_test) <= 1600.0, \"Tu respuesta es incorrecta. Asegurate de cocatenar los arreglos y luego calcular un promedio.\"\n",
    "\n",
    "# Caso 6: retorna un numero distinto del esperado\n",
    "assert promedio(mercadeo_test, logistica_test) == 1600.0, \"Tu respuesta es incorrecta. Es posible que hayas omitido algún valor al realizar el cálculo.\"\n",
    "assert promedio(mercadeo, logistica) == 1575.0, \"Tu respuesta es incorrecta. Es posible que hayas omitido algún valor al realizar el cálculo.\"\n",
    "\n",
    "# Mensaje de felicitaciones\n",
    "print(\"Felicidades, realizaste este ejercicio correctamente.\")"
   ]
  },
  {
   "cell_type": "markdown",
   "metadata": {
    "nbgrader": {
     "grade": false,
     "grade_id": "ej2-enun",
     "locked": true,
     "schema_version": 3,
     "solution": false,
     "task": false
    }
   },
   "source": [
    "### Ejercicio 2\n",
    "\n",
    "A continuación encuentras un `Series` que contiene la edad de Sonia y sus hermanos. Ellos quieren quienes son los dos mayores para estar atentos a la vacunación. "
   ]
  },
  {
   "cell_type": "code",
   "execution_count": null,
   "metadata": {
    "nbgrader": {
     "grade": false,
     "grade_id": "ej2-data",
     "locked": true,
     "schema_version": 3,
     "solution": false,
     "task": false
    }
   },
   "outputs": [],
   "source": [
    "# Esta celda no es modificable.\n",
    "\n",
    "hermanos = pd.Series({\"Sonia\": 40, \"Patricia\": 42, \"Jorge\": 37, \"Alejandro\": 45, \"Aura\": 47, \"Carlos\": 40, \"Claudia\": 41, \"Victor\": 43})"
   ]
  },
  {
   "cell_type": "markdown",
   "metadata": {
    "nbgrader": {
     "grade": false,
     "grade_id": "ej2-task",
     "locked": true,
     "schema_version": 3,
     "solution": false,
     "task": false
    }
   },
   "source": [
    "Implementa una función llamada `mayores` que reciba un `Series` por parámetro y retorne los dos mayores valores en una tupla.\n",
    "\n",
    "*Esta función debe retornar una tupla de la forma* `(mayor_valor1, mayor_valor2)` *, dónde* `mayor_valor1` *es mayor o igual que* `mayor_valor2` *.*"
   ]
  },
  {
   "cell_type": "code",
   "execution_count": null,
   "metadata": {
    "nbgrader": {
     "grade": false,
     "grade_id": "ej2-sol",
     "locked": false,
     "schema_version": 3,
     "solution": true,
     "task": false
    }
   },
   "outputs": [],
   "source": [
    "# Implementa tu respuesta en esta celda.\n",
    "\n",
    "def mayores(serie):\n",
    "    return (*serie.nlargest(2),)"
   ]
  },
  {
   "cell_type": "code",
   "execution_count": null,
   "metadata": {
    "nbgrader": {
     "grade": true,
     "grade_id": "ej2-test",
     "locked": true,
     "points": 1,
     "schema_version": 3,
     "solution": false,
     "task": false
    }
   },
   "outputs": [],
   "source": [
    "## AUTO-CALIFICADOR\n",
    "\n",
    "# Base variables\n",
    "hermanos_test = pd.Series({\"Sonia\": 43, \"Patricia\": 46, \"Jorge\": 39, \"Alejandro\": 40, \"Aura\": 30, \"Carlos\": 41, \"Claudia\": 40})\n",
    "\n",
    "# Caso 1: no existe la función.\n",
    "try:\n",
    "    mayores\n",
    "    assert type(mayores) == type(lambda:None)\n",
    "except:\n",
    "    raise NotImplementedError(\"No existe una función llamada mayores.\",)\n",
    "    \n",
    "# Caso 2: la función es interrumpida por errores durante su ejecución.\n",
    "try:\n",
    "    mayores(hermanos)\n",
    "    mayores(hermanos_test)\n",
    "except:\n",
    "    raise RuntimeError(\"Tu función produce un error al ejecutarse.\")\n",
    "\n",
    "# Caso 3: no retorna una lista\n",
    "assert type(mayores(hermanos_test)) == type((\"\",)), f\"Tu función debe retornar un objeto de tipo {type(tuple).__name__}.\"    \n",
    "       \n",
    "# Caso 4: tamaño incorrecto\n",
    "assert len(mayores(hermanos_test)) == 2, \"Tu función retorna una lista de un tamaño diferente al solicitado.\"\n",
    "\n",
    "# Caso 5: procedimiento incorrecto\n",
    "assert mayores(hermanos_test) != [47, 45], \"Tu respuesta es incorrecta para una instancia diferente. Utiliza los parámetros.\"\n",
    "\n",
    "# Caso 6: la lista no contiene todos los valores correctos\n",
    "try:\n",
    "    assert mayores(hermanos_test).count(46) >= 1\n",
    "    assert mayores(hermanos_test).count(43) >= 1\n",
    "except AssertionError as e:\n",
    "    e.args += (\"Tu respuesta no contiene la información solicitada.\",)\n",
    "    raise e\n",
    "\n",
    "# Caso 7: la lista es estrictamente correcta\n",
    "try:\n",
    "    assert mayores(hermanos_test)[0] == 46\n",
    "    assert mayores(hermanos_test)[1] == 43\n",
    "except AssertionError as e:\n",
    "    e.args += (\"Tu respuesta tiene un orden incorrecto.\",)\n",
    "    raise e\n",
    "\n",
    "# Caso 8: retorna un numero distinto del esperado\n",
    "assert mayores(hermanos) == (47, 45), \"Tu respuesta es incorrecta.\"\n",
    "\n",
    "# Mensaje de felicitaciones\n",
    "print(\"Felicidades, realizaste este ejercicio correctamente.\")"
   ]
  },
  {
   "cell_type": "markdown",
   "metadata": {
    "nbgrader": {
     "grade": false,
     "grade_id": "ej345-enun",
     "locked": true,
     "schema_version": 3,
     "solution": false,
     "task": false
    }
   },
   "source": [
    "## Salarios en latinoamérica\n",
    "\n",
    "A continuación, encuentras declarado un `DataFrame` que contiene la edad, la ciudad de residencia y el salario (en USD) de nombres de algunos empleados de una multinacional. Utiliza esta información para dar respuesta a los ejercicios 3, 4 y 5."
   ]
  },
  {
   "cell_type": "code",
   "execution_count": null,
   "metadata": {
    "nbgrader": {
     "grade": false,
     "grade_id": "ej345-data",
     "locked": true,
     "schema_version": 3,
     "solution": false,
     "task": false
    },
    "scrolled": true
   },
   "outputs": [],
   "source": [
    "# Esta celda no es modificable.\n",
    "\n",
    "e1 = [ 28,\"Bogotá\", 2000]\n",
    "e2 = [ 37, \"Lima\", 3200 ]\n",
    "e3 = [ 23,\"Bogotá\", 1700]\n",
    "e4 = [ 25, \"Buenos Aires\", 1100 ]\n",
    "e5 = [ 43,\"Buenos Aires\", 3300]\n",
    "e6 = [ 58, \"Lima\", 5500 ]\n",
    "e7 = [ 32,\"Bogotá\", 2700]\n",
    "e8 = [ 35, \"Quito\", 2500 ]\n",
    "\n",
    "empleados = pd.DataFrame([e1,e2, e3, e4, e5, e6, e7, e8], \n",
    "                         index = [\"Carlos\", \"David\", \"Ana\", \"Maria\", \"Felipe\", \"Luisa\", \"Juan\", \"Camila\"], \n",
    "                         columns = [\"Edad\", \"Ciudad Residencia\", \"Salario (en USD)\"])\n",
    "empleados"
   ]
  },
  {
   "cell_type": "markdown",
   "metadata": {
    "nbgrader": {
     "grade": false,
     "grade_id": "ej3-task",
     "locked": true,
     "schema_version": 3,
     "solution": false,
     "task": false
    }
   },
   "source": [
    "### Ejercicio 3\n",
    "\n",
    "Implementa una función llamada `ciudades` que reciba un `DataFrame` por parámetro y retorne el número de ciudades diferentes en las que residen los empleados de la multinacional.\n",
    "\n",
    "*Esta función debe retornar un `int`*."
   ]
  },
  {
   "cell_type": "code",
   "execution_count": null,
   "metadata": {
    "nbgrader": {
     "grade": false,
     "grade_id": "ej3-sol",
     "locked": false,
     "schema_version": 3,
     "solution": true,
     "task": false
    }
   },
   "outputs": [],
   "source": [
    "def ciudades(df):\n",
    "    \n",
    "    a = df['Ciudad Residencia'].unique()\n",
    "    return len(a)\n",
    "\n",
    "ciudades(empleados)"
   ]
  },
  {
   "cell_type": "code",
   "execution_count": null,
   "metadata": {
    "nbgrader": {
     "grade": true,
     "grade_id": "ej3-test",
     "locked": true,
     "points": 1,
     "schema_version": 3,
     "solution": false,
     "task": false
    }
   },
   "outputs": [],
   "source": [
    "## AUTO-CALIFICADOR\n",
    "\n",
    "# Test paremters\n",
    "e1 = [ 28,\"Quito\", 2000]\n",
    "e2 = [ 37, \"Lima\", 3200 ]\n",
    "e3 = [ 22,\"Bogotá\", 1700]\n",
    "e4 = [ 35, \"Santiago\", 1100]\n",
    "e5 = [ 41,\"Buenos Aires\", 3900]\n",
    "e6 = [ 58, \"Lima\", 5500]\n",
    "e7 = [ 22,\"Brasilia\", 2100]\n",
    "e8 = [ 35, \"Bogotá\", 2500]\n",
    "\n",
    "empleados_test = pd.DataFrame([e1,e2, e3, e4, e5, e6, e7, e8], \n",
    "                              index = [\"Carlos\", \"David\", \"Ana\", \"Maria\", \"Felipe\", \"Luisa\", \"Juan\", \"Camila\"], \n",
    "                              columns = [\"Edad\", \"Ciudad Residencia\", \"Salario (en USD)\"])\n",
    "\n",
    "# Caso 1: no existe la función.\n",
    "try:\n",
    "    ciudades\n",
    "    assert type(ciudades) == type(lambda:None)\n",
    "except:\n",
    "    raise NotImplementedError(\"No existe una función llamada ciudades.\")\n",
    "\n",
    "# Caso 2: la función es interrumpida por errores durante su ejecución.\n",
    "try:\n",
    "    ciudades(empleados)\n",
    "    ciudades(empleados_test)\n",
    "except:\n",
    "    raise RuntimeError(\"Tu función produce un error al ejecutarse.\")\n",
    "\n",
    "# Caso 3: no retorna un int\n",
    "assert type(ciudades(empleados_test)) == int, f\"Tu función debe retornar un objeto de tipo {int.__name__}.\"   \n",
    "\n",
    "# Caso 4: respuesta explicita\n",
    "assert ciudades(empleados_test) != 4, \"Tu respuesta es incorrecta para una instancia diferente. Utiliza los parámetros.\"\n",
    "\n",
    "# Caso 5: Retorna el número de elementos de la columna 'Ciudad Residencia'\n",
    "assert ciudades(empleados_test) != 8, \"Tu respuesta es el número de elementos de la columna 'Ciudad Residencia'.\"\n",
    "\n",
    "# Caso 6: retorna un numero distinto del esperado\n",
    "assert ciudades(empleados_test) == 6, \"Tu respuesta es incorrecta.\"\n",
    "assert ciudades(empleados) == 4, \"Tu respuesta es incorrecta.\"\n",
    "\n",
    "# Mensaje de felicitaciones\n",
    "print(\"Felicidades, realizaste este ejercicio correctamente.\")"
   ]
  },
  {
   "cell_type": "markdown",
   "metadata": {
    "nbgrader": {
     "grade": false,
     "grade_id": "ej4-task",
     "locked": true,
     "schema_version": 3,
     "solution": false,
     "task": false
    }
   },
   "source": [
    "### Ejercicio 4\n",
    "\n",
    "Implementa una función llamada `mayor_al_promedio` que reciba un `DataFrame` y un índice de este `DataFrame` por parámetro, y retorne `True` si el salario asociado a este índice es mayor al promedio o `False` de lo contrario.\n",
    "\n",
    "*Esta función debe retornar* `True` *o* `False` *.*"
   ]
  },
  {
   "cell_type": "code",
   "execution_count": null,
   "metadata": {
    "nbgrader": {
     "grade": false,
     "grade_id": "ej4-sol",
     "locked": false,
     "schema_version": 3,
     "solution": true,
     "task": false
    }
   },
   "outputs": [],
   "source": [
    "# Implementa tu respuesta en esta celda\n",
    "\n",
    "def mayor_al_promedio(df, indice):\n",
    "    \n",
    "    salario_promedio = df['Salario (en USD)'].mean()\n",
    "    salario_indice = df.loc[indice]['Salario (en USD)']\n",
    "    \n",
    "    if salario_indice > salario_promedio:\n",
    "        respuesta = True\n",
    "    else:\n",
    "        respuesta = False\n",
    "    return respuesta\n",
    "\n",
    "mayor_al_promedio(empleados, 'Juan')"
   ]
  },
  {
   "cell_type": "code",
   "execution_count": null,
   "metadata": {
    "nbgrader": {
     "grade": true,
     "grade_id": "ej4-test",
     "locked": true,
     "points": 1,
     "schema_version": 3,
     "solution": false,
     "task": false
    }
   },
   "outputs": [],
   "source": [
    "## AUTO-CALIFICADOR\n",
    "\n",
    "# Test paremters\n",
    "e1 = [ 28,\"Quito\", 2000]\n",
    "e2 = [ 37, \"Lima\", 3200 ]\n",
    "e3 = [ 22,\"Bogotá\", 1700]\n",
    "e4 = [ 35, \"Santiago\", 1100 ]\n",
    "e5 = [ 41,\"Buenos Aires\", 3900]\n",
    "e6 = [ 58, \"Lima\", 5500 ]\n",
    "e7 = [ 22,\"Brasilia\", 2100]\n",
    "e8 = [ 35, \"Bogotá\", 2500 ]\n",
    "\n",
    "empleados_test = pd.DataFrame([e1,e2, e3, e4, e5, e6, e7, e8],\n",
    "                              index=[\"Carlos\", \"David\", \"Ana\", \"Maria\", \"Felipe\", \"Luisa\", \"Juan\", \"Camila\"], \n",
    "                              columns=[\"Edad\", \"Ciudad Residencia\", \"Salario (en USD)\"])\n",
    "\n",
    "# Caso 1: no existe la función.\n",
    "try:\n",
    "    mayor_al_promedio\n",
    "    assert type(mayor_al_promedio) == type(lambda:None)\n",
    "except:\n",
    "    raise NotImplementedError(\"No existe una función llamada mayor_al_promedio.\")\n",
    "\n",
    "# Caso 2: la función es interrumpida por errores durante su ejecución.\n",
    "try:\n",
    "    mayor_al_promedio(empleados, 'Juan')\n",
    "    mayor_al_promedio(empleados_test, 'Luisa')\n",
    "except:\n",
    "    raise RuntimeError(\"Tu función produce un error al ejecutarse.\")\n",
    "\n",
    "# Caso 3: no retorna un boolean\n",
    "assert type(mayor_al_promedio(empleados_test, 'Luisa')) == type(True), f\"Tu función debe retornar un objeto de tipo {type(True).__name__}.\"    \n",
    "\n",
    "# Caso 4: procedimiento incorrecto\n",
    "assert mayor_al_promedio(empleados_test, 'Luisa') != False, \"Tu respuesta es incorrecta para una instancia diferente. Utiliza los parámetros.\"\n",
    "\n",
    "# Caso 5: retorna un numero distinto del esperado\n",
    "assert mayor_al_promedio(empleados_test, 'Luisa') == True, \"Tu respuesta es incorrecta.\"\n",
    "assert mayor_al_promedio(empleados, 'Juan') == False, \"Tu respuesta es incorrecta.\"\n",
    "\n",
    "# Mensaje de felicitaciones\n",
    "print(\"Felicidades, realizaste este ejercicio correctamente.\")"
   ]
  },
  {
   "cell_type": "markdown",
   "metadata": {
    "nbgrader": {
     "grade": false,
     "grade_id": "ej5-task",
     "locked": true,
     "schema_version": 3,
     "solution": false,
     "task": false
    }
   },
   "source": [
    "### Ejercicio 5\n",
    "\n",
    "Implementa una función llamada `modificar` que reciba un `DataFrame` por parámetro, elimine la segunda fila, cambie el nombre de la columna 'Salario (en USD)' a 'Sueldo (en USD)' y retorne un nuevo `DataFrame` con las modificaciones realizadas.\n",
    "\n",
    "*Esta función debe retornar un* `DataFrame` *.*"
   ]
  },
  {
   "cell_type": "code",
   "execution_count": null,
   "metadata": {
    "nbgrader": {
     "grade": false,
     "grade_id": "ej5-sol",
     "locked": false,
     "schema_version": 3,
     "solution": true,
     "task": false
    },
    "scrolled": true
   },
   "outputs": [],
   "source": [
    "# Implementa tu respuesta en esta celda\n",
    "\n",
    "def modificar(df):\n",
    "    \n",
    "    df = df.drop(df.index[[1]])\n",
    "    df = df.rename(columns = {\"Salario (en USD)\": \"Sueldo (en USD)\"})\n",
    "        \n",
    "    return df\n",
    "\n",
    "modificar(empleados)"
   ]
  },
  {
   "cell_type": "code",
   "execution_count": null,
   "metadata": {
    "nbgrader": {
     "grade": true,
     "grade_id": "ej5-test",
     "locked": true,
     "points": 1,
     "schema_version": 3,
     "solution": false,
     "task": false
    }
   },
   "outputs": [],
   "source": [
    "## AUTO-CALIFICADOR\n",
    "\n",
    "# Test paremters\n",
    "e1 = [ 28,\"Quito\", 2000]\n",
    "e2 = [ 37, \"Lima\", 3200 ]\n",
    "e3 = [ 22,\"Bogotá\", 1700]\n",
    "e4 = [ 35, \"Santiago\", 1100 ]\n",
    "e5 = [ 41,\"Buenos Aires\", 3900]\n",
    "e6 = [ 58, \"Lima\", 5500 ]\n",
    "e7 = [ 22,\"Brasilia\", 2100]\n",
    "e8 = [ 35, \"Bogotá\", 2500 ]\n",
    "\n",
    "empleados_test = pd.DataFrame([e1,e2, e3, e4, e5, e6, e7, e8],\n",
    "                              index=[\"Carlos\", \"Diego\", \"Ariel\", \"Maria\", \"Felipe\", \"Luisa\", \"Juan\", \"Camila\"], \n",
    "                              columns=[\"Edad\", \"Ciudad Residencia\", \"Salario (en USD)\"])\n",
    "\n",
    "# Caso 1: no existe la función.\n",
    "try:\n",
    "    modificar\n",
    "    assert type(modificar) == type(lambda:None)\n",
    "except:\n",
    "    raise NotImplementedError(\"No existe una función llamada modificar.\",)\n",
    "    \n",
    "# Caso 2: la función es interrumpida por errores durante su ejecución.\n",
    "try:\n",
    "    modificar(empleados)\n",
    "    modificar(empleados_test)\n",
    "except:\n",
    "    raise RuntimeError(\"Tu función produce un error al ejecutarse.\")\n",
    "\n",
    "# Caso 3: no retorna un dataframe\n",
    "assert type(modificar(empleados_test)) == type(empleados_test), f\"Tu función debe retornar un objeto de tipo {type(empleados_test).__name__}.\"    \n",
    "\n",
    "# Caso 4: Cambio de nombre correcto\n",
    "assert modificar(empleados_test).columns[2] == 'Sueldo (en USD)', \"Tu respuesta es incorrecta. Recuerda modificar el nombre de la columna 'Salario (en USD)'\"\n",
    "\n",
    "# Caso 5: Elimino la fila\n",
    "modificar(empleados_test).index[[1]] == 'Ariel', \"Tu respuesta es incorrecta. Recuerda eliminar la segunda fila del DataFrame.\"\n",
    "\n",
    "# Caso 6: los cambios son estrictamente correctos\n",
    "try:\n",
    "    assert modificar(empleados).columns[2] == 'Sueldo (en USD)'\n",
    "    assert modificar(empleados).index[[1]] == 'Ana'\n",
    "except AssertionError as e:\n",
    "    e.args += (\"Tu respuesta es incorrecta.\",)\n",
    "    raise e\n",
    "\n",
    "# Mensaje de felicitaciones\n",
    "print(\"Felicidades, realizaste este ejercicio correctamente.\")"
   ]
  },
  {
   "cell_type": "markdown",
   "metadata": {
    "nbgrader": {
     "grade": false,
     "grade_id": "ej678-enun",
     "locked": true,
     "schema_version": 3,
     "solution": false,
     "task": false
    }
   },
   "source": [
    "## Lista de países\n",
    "\n",
    "A continuación encuentras un `DataFrame` con un listado de países con su respectivo nombre en inglés y en español."
   ]
  },
  {
   "cell_type": "code",
   "execution_count": null,
   "metadata": {
    "nbgrader": {
     "grade": false,
     "grade_id": "ej678-data",
     "locked": true,
     "schema_version": 3,
     "solution": false,
     "task": false
    },
    "scrolled": true
   },
   "outputs": [],
   "source": [
    "# Esta celda no es modificable.\n",
    "\n",
    "paises = pd.read_csv(\"./Archivos/DiccionarioPaises.csv\", encoding = \"UTF-8\", delimiter = \";\")\n",
    "paises.head()"
   ]
  },
  {
   "cell_type": "markdown",
   "metadata": {
    "nbgrader": {
     "grade": false,
     "grade_id": "ej6-task",
     "locked": true,
     "schema_version": 3,
     "solution": false,
     "task": false
    }
   },
   "source": [
    "### Ejercicio 6\n",
    "\n",
    "Implementa una función llamada `dif_longitud` que reciba un `DataFrame` por parámetro, elimine los países cuya traducción cambie en longitud  y retorne un `DataFrame` con las modificaciones realizadas.\n",
    "\n",
    "*Esta función debe retornar un* `DataFrame` *.*"
   ]
  },
  {
   "cell_type": "code",
   "execution_count": null,
   "metadata": {
    "nbgrader": {
     "grade": false,
     "grade_id": "ej6-sol",
     "locked": false,
     "schema_version": 3,
     "solution": true,
     "task": false
    },
    "scrolled": false
   },
   "outputs": [],
   "source": [
    "# your code here\n",
    "def dif_longitud(df):\n",
    "    df['diferencia_long'] = df[\"País en español\"].str.len() - df[\"País en inglés\"].str.len()\n",
    "    df = df[df['diferencia_long'] == 0]\n",
    "    df = df.drop(columns = [\"diferencia_long\"])\n",
    "    return df\n",
    "\n",
    "dif_longitud(paises)"
   ]
  },
  {
   "cell_type": "code",
   "execution_count": null,
   "metadata": {
    "nbgrader": {
     "grade": true,
     "grade_id": "ej6-test",
     "locked": true,
     "points": 1,
     "schema_version": 3,
     "solution": false,
     "task": false
    }
   },
   "outputs": [],
   "source": [
    "## AUTO-CALIFICADOR\n",
    "\n",
    "# Base variables\n",
    "paises = pd.read_csv(\"./Archivos/DiccionarioPaises.csv\", encoding = \"UTF-8\", delimiter = \";\")\n",
    "nombre_columnas = ['País en español', 'País en inglés']\n",
    "\n",
    "# Caso 1: no existe la función.\n",
    "try:\n",
    "    dif_longitud\n",
    "    assert type(dif_longitud) == type(lambda:None)\n",
    "except:\n",
    "    raise NotImplementedError(\"No existe una función llamada dif_longitud.\",)\n",
    "    \n",
    "# Caso 2: la función es interrumpida por errores durante su ejecución.\n",
    "try:\n",
    "    dif_longitud(paises)\n",
    "except:\n",
    "    raise RuntimeError(\"Tu función produce un error al ejecutarse.\")\n",
    "\n",
    "# Caso 3: no retorna un DataFrame.\n",
    "assert type(dif_longitud(paises)) == type(paises), f\"Tu función debe retornar un objeto de tipo {type(paises).__name__}.\"\n",
    "\n",
    "# Caso 4: devuelve un dataframe cuyas columnas tienen nombre distinto de lo esperado\n",
    "assert [*dif_longitud(paises).columns] == nombre_columnas, \"Tu función retorna un DataFrame con columnas cuyos nombres no coinciden con los de los datos del archivo. Asegurate de estar filtrando las columnas indicadas.\"\n",
    "\n",
    "# Caso 5: devuelve un dataframe con cantidad de filas errada.\n",
    "assert dif_longitud(paises).shape[0] == 127, \"Tu función retorna un DataFrame con cantidad de filas errada.\"\n",
    "\n",
    "# Caso 6: No elimina las filas correctas\n",
    "assert sum((dif_longitud(paises)['País en español']+dif_longitud(paises)['País en inglés']).apply(len) % 2) == 0, \"Tu función no elimina las filas correctas del DataFrame.\"\n",
    "\n",
    "### BEGIN HIDDEN TESTS\n",
    "\n",
    "def dif_longitud_sol(df):\n",
    "    \n",
    "    a_eliminar=[]\n",
    "    for i in range(len(df['País en inglés'])):\n",
    "        if len(df.iloc[i, 0]) != len(df.iloc[i, 1]):\n",
    "            a_eliminar.append(i)\n",
    "    a=df.drop(a_eliminar)              \n",
    "    return a\n",
    "\n",
    "students = dif_longitud(paises)\n",
    "\n",
    "paises = pd.read_csv(\"./Archivos/DiccionarioPaises.csv\", encoding = \"UTF-8\", delimiter = \";\")\n",
    "\n",
    "ours = dif_longitud_sol(paises)\n",
    "\n",
    "pd.testing.assert_frame_equal(students, ours)\n",
    "\n",
    "### END HIDDEN TESTS\n",
    "\n",
    "# Mensaje de felicitaciones\n",
    "print(\"Felicidades, realizaste este ejercicio correctamente.\")"
   ]
  },
  {
   "cell_type": "markdown",
   "metadata": {
    "nbgrader": {
     "grade": false,
     "grade_id": "ej7-task",
     "locked": true,
     "schema_version": 3,
     "solution": false,
     "task": false
    }
   },
   "source": [
    "### Ejercicio 7\n",
    "\n",
    "Implementa una función llamada `paises_por_a` que reciba un `DataFrame` por parámetro y retorne el mismo `DataFrame` con los países cuyo nombre en español inicia con la letra `\"A\"`. \n",
    "\n",
    "*Esta función debe retornar un `DataFrame`*."
   ]
  },
  {
   "cell_type": "code",
   "execution_count": null,
   "metadata": {
    "nbgrader": {
     "grade": false,
     "grade_id": "ej7-sol",
     "locked": false,
     "schema_version": 3,
     "solution": true,
     "task": false
    }
   },
   "outputs": [],
   "source": [
    "'''\n",
    "def paises_por_a(df):\n",
    "    a = df\n",
    "    no_a = []\n",
    "    \n",
    "    for i in range(len(df['País en español'])):\n",
    "        if str(df.iloc[i, 0])[0] != 'A':\n",
    "            no_a.append(i)\n",
    "    \n",
    "    a = df.drop(no_a)\n",
    "    \n",
    "    return a\n",
    "'''\n",
    "# your code here\n",
    "def paises_por_a(df):\n",
    "    return df[df[\"País en español\"].str[0] == \"A\"]\n",
    "\n",
    "paises_por_a(paises)"
   ]
  },
  {
   "cell_type": "code",
   "execution_count": null,
   "metadata": {
    "nbgrader": {
     "grade": true,
     "grade_id": "ej7-test",
     "locked": true,
     "points": 1,
     "schema_version": 3,
     "solution": false,
     "task": false
    }
   },
   "outputs": [],
   "source": [
    "## AUTO-CALIFICADOR\n",
    "\n",
    "# Base variables\n",
    "paises = pd.read_csv(\"./Archivos/DiccionarioPaises.csv\", encoding = \"UTF-8\", delimiter = \";\")\n",
    "nombre_columnas = ['País en español', 'País en inglés']\n",
    "\n",
    "# Caso 1: no existe la función.\n",
    "try:\n",
    "    paises_por_a\n",
    "    assert type(paises_por_a) == type(lambda:None)\n",
    "except:\n",
    "    raise NotImplementedError(\"No existe una función llamada paises_por_a.\",)\n",
    "    \n",
    "# Caso 2: la función es interrumpida por errores durante su ejecución.\n",
    "try:\n",
    "    paises_por_a(paises)\n",
    "except:\n",
    "    raise RuntimeError(\"Tu función produce un error al ejecutarse.\")\n",
    "\n",
    "# Caso 3: no retorna un dataframe.\n",
    "assert type(paises_por_a(paises)) == type(paises), f\"Tu función debe retornar un objeto de tipo {type(paises).__name__}.\"    \n",
    "\n",
    "# Caso 4: devuelve un dataframe cuyas columnas tienen nombre distinto de lo esperado\n",
    "assert [*paises_por_a(paises).columns] == nombre_columnas, \"Tu función retorna un DataFrame con columnas cuyos nombres no coinciden con los de los datos del archivo. Asegurate de estar filtrando las columnas indicadas.\"\n",
    "\n",
    "# Caso 5: devuelve un dataframe con cantidad de filas errada.\n",
    "assert paises_por_a(paises).shape[0] == 13, \"Tu función retorna un DataFrame con cantidad de filas errada.\"\n",
    "\n",
    "# Caso 6: No elimina las filas correctas\n",
    "lista_a = ['Afganistán', 'Albania', 'Alemania', 'Andorra', 'Angola', 'Antigua y Barbuda', 'Arabia Saudí', 'Argelia', 'Argentina', 'Armenia', 'Australia', 'Austria', 'Azerbaiyán']\n",
    "\n",
    "assert lista_a == [*paises_por_a(paises)['País en español']], \"Tu función no elimina las filas correctas del DataFrame.\"\n",
    "\n",
    "### BEGIN HIDDEN TESTS\n",
    "\n",
    "def paises_por_a_sol(df):\n",
    "    a = df\n",
    "    no_a = []\n",
    "    for i in range(len(df['País en español'])):\n",
    "        if str(df.iloc[i, 0])[0] != 'A':\n",
    "            no_a.append(i)\n",
    "    a = df.drop(no_a)\n",
    "    return a\n",
    "\n",
    "students = paises_por_a(paises)\n",
    "ours = paises_por_a_sol(paises)\n",
    "\n",
    "pd.testing.assert_frame_equal(students, ours)\n",
    "    \n",
    "### END HIDDEN TESTS\n",
    "\n",
    "# Mensaje de felicitaciones\n",
    "print(\"Felicidades, realizaste este ejercicio correctamente.\")"
   ]
  },
  {
   "cell_type": "markdown",
   "metadata": {
    "nbgrader": {
     "grade": false,
     "grade_id": "ej8-enun",
     "locked": true,
     "schema_version": 3,
     "solution": false,
     "task": false
    }
   },
   "source": [
    "### Ejercicio 8\n",
    "\n",
    "A continuación encuentras una tupla con las letras del alfabeto."
   ]
  },
  {
   "cell_type": "code",
   "execution_count": null,
   "metadata": {
    "nbgrader": {
     "grade": false,
     "grade_id": "ej8-data",
     "locked": true,
     "schema_version": 3,
     "solution": false,
     "task": false
    }
   },
   "outputs": [],
   "source": [
    "# Esta celda no es modificable.\n",
    "\n",
    "alfabeto = ('A', 'B', 'C', 'D', 'E', 'F', 'G', 'H', 'I', \n",
    "            'J', 'K', 'L', 'M', 'N', 'Ñ', 'O', 'P', 'Q', \n",
    "            'R', 'S', 'T', 'U', 'V', 'W', 'X', 'Y', 'Z')"
   ]
  },
  {
   "cell_type": "markdown",
   "metadata": {
    "nbgrader": {
     "grade": false,
     "grade_id": "ej8-task",
     "locked": true,
     "schema_version": 3,
     "solution": false,
     "task": false
    }
   },
   "source": [
    "Implementa una función llamada `inicia_con` que reciba un `DataFrame` por parámetro y retorne un diccionario cuyas llaves sean las letras del abecedario y el valor de cada llave sea el número de países cuyo nombre en inglés inicia con la respectiva letra. \n",
    "\n",
    "*Esta función debe retornar un diccionario*."
   ]
  },
  {
   "cell_type": "code",
   "execution_count": null,
   "metadata": {
    "nbgrader": {
     "grade": false,
     "grade_id": "ej8-sol",
     "locked": false,
     "schema_version": 3,
     "solution": true,
     "task": false
    },
    "scrolled": false
   },
   "outputs": [],
   "source": [
    "# Implementa tu respuesta en esta celda\n",
    "\n",
    "def inicia_con(df):\n",
    "\n",
    "    respuesta = {letra: sum(1 for i in paises['País en inglés'] if i[0] == letra) for letra in alfabeto}\n",
    "    return respuesta\n",
    "\n",
    "inicia_con(paises)"
   ]
  },
  {
   "cell_type": "code",
   "execution_count": null,
   "metadata": {
    "nbgrader": {
     "grade": true,
     "grade_id": "ej8-test",
     "locked": true,
     "points": 1,
     "schema_version": 3,
     "solution": false,
     "task": false
    }
   },
   "outputs": [],
   "source": [
    "## AUTO-CALIFICADOR\n",
    "\n",
    "# Base variables\n",
    "paises = pd.read_csv(\"./Archivos/DiccionarioPaises.csv\", encoding = \"UTF-8\", delimiter = \";\")\n",
    "nombre_columnas = ['País en español', 'País en inglés']\n",
    "alfabeto = ('A', 'B', 'C', 'D', 'E', 'F', 'G', 'H', 'I', \n",
    "            'J', 'K', 'L', 'M', 'N', 'Ñ', 'O', 'P', 'Q', \n",
    "            'R', 'S', 'T', 'U', 'V', 'W', 'X', 'Y', 'Z')\n",
    "\n",
    "# Caso 1: no existe la función.\n",
    "try:\n",
    "    inicia_con\n",
    "    assert type(inicia_con) == type(lambda:None)\n",
    "except:\n",
    "    raise NotImplementedError(\"No existe una función llamada inicia_con.\",)\n",
    "    \n",
    "# Caso 2: la función es interrumpida por errores durante su ejecución.\n",
    "try:\n",
    "    inicia_con(paises)\n",
    "except:\n",
    "    raise RuntimeError(\"Tu función produce un error al ejecutarse.\")\n",
    "\n",
    "# Caso 3: no retorna un diccionario.\n",
    "assert type(inicia_con(paises)) == type({}), f\"Tu función debe retornar un objeto de tipo '{type({}).__name__}'.\"    \n",
    "\n",
    "# Caso 4: Llaves son el abecedario\n",
    "assert tuple(inicia_con(paises).keys()) == alfabeto, \"Tu diccionario tiene llaves diferentes al abecedario.\"\n",
    "\n",
    "# Caso 5: Comparamos las que son iguales a cero y otros valores.\n",
    "try:\n",
    "    assert (inicia_con(paises).get('Ñ')) == 0\n",
    "    assert (inicia_con(paises).get('X')) == 0\n",
    "    assert (inicia_con(paises).get('B')) == 18\n",
    "    assert (inicia_con(paises).get('W')) == 1\n",
    "    assert (inicia_con(paises).get('S')) == 24\n",
    "\n",
    "except AssertionError as e:\n",
    "    e.args += (\"Tu respuesta es incorrecta. Revisa tu procedimiento\",)\n",
    "    raise e\n",
    "\n",
    "# Mensaje de felicitaciones\n",
    "print(\"Felicidades, realizaste este ejercicio correctamente.\")"
   ]
  },
  {
   "cell_type": "markdown",
   "metadata": {
    "nbgrader": {
     "grade": false,
     "grade_id": "creds",
     "locked": true,
     "schema_version": 3,
     "solution": false,
     "task": false
    }
   },
   "source": [
    "## Créditos\n",
    "\n",
    "**Autor(es):** Camilo Falla Moreno, Juan David Reyes Jaimes, Alejandro Mantilla Redondo, Diego Alejandro Cely Gómez\n",
    "\n",
    "**Fecha última actualización:** 17/09/2021"
   ]
  }
 ],
 "metadata": {
  "celltoolbar": "Create Assignment",
  "kernelspec": {
   "display_name": "Python 3",
   "language": "python",
   "name": "python3"
  },
  "language_info": {
   "codemirror_mode": {
    "name": "ipython",
    "version": 3
   },
   "file_extension": ".py",
   "mimetype": "text/x-python",
   "name": "python",
   "nbconvert_exporter": "python",
   "pygments_lexer": "ipython3",
   "version": "3.7.10"
  }
 },
 "nbformat": 4,
 "nbformat_minor": 2
}
