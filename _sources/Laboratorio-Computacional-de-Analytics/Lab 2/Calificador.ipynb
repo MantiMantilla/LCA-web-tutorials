{
 "cells": [
  {
   "cell_type": "markdown",
   "id": "32b0251a",
   "metadata": {},
   "source": [
    "![](Archivos/miad4.png)"
   ]
  },
  {
   "cell_type": "markdown",
   "id": "232eb7c2",
   "metadata": {},
   "source": [
    "# Rúbrica de calificación - Laboratorio 2"
   ]
  },
  {
   "cell_type": "code",
   "execution_count": 1,
   "id": "83030bac",
   "metadata": {},
   "outputs": [
    {
     "name": "stdout",
     "output_type": "stream",
     "text": [
      "202124435\n"
     ]
    }
   ],
   "source": [
    "id_estudiante = input()\n",
    "notas = {}\n",
    "realimentacion = {}"
   ]
  },
  {
   "cell_type": "markdown",
   "id": "3cb0d8c7",
   "metadata": {},
   "source": [
    "## Misión 1\n",
    "\n",
    "El propósito de esta misión es cargar y entender el contenido del archivo de datos."
   ]
  },
  {
   "cell_type": "code",
   "execution_count": 2,
   "id": "8e1b640b",
   "metadata": {
    "scrolled": true
   },
   "outputs": [
    {
     "name": "stdout",
     "output_type": "stream",
     "text": [
      "Obtener los datos a partir del archivo(s). Se califica que el Dataframe sea cargado correctamente.\n",
      "Asigne una nota de 0 a 0.25: 0.25\n",
      "\n",
      "Inspeccionar el dataframe obtenido con el fin de determinar dimensiones (filas y columnas), tipos de datos y diagnóstico sobre datos erróneos o faltantes (incluyendo la definición y aplicación de una política para solventarlos). Se califica la impresión u otra forma de reporte de esta información.\n",
      "Asigne una nota de 0 a 0.25: 0.125\n",
      "\n",
      "Interpretar el contenido de los datos en el contexto del problema dado. Se califican impresiones u otra forma de reporte sobre \"qué hay en los datos\" (pensando en el interés del stakeholder), por ejemplo: qué tipo de información hay en las variables, en qué categorías podrían dividirse, cuáles pueden ser redundantes.\n",
      "Asigne una nota de 0 a 0.25: 0.25\n",
      "\n",
      "Seleccionar un sub-conjunto razonable de variables descartando aquellas que no tengan suficiente relevancia en el contexto dado. Se califica que se reemplace el (o se cree un) dataframe que conserve únicamente la porción de interés de los datos originales.\n",
      "Asigne una nota de 0 a 0.25: 0.25\n",
      "\n"
     ]
    }
   ],
   "source": [
    "mision = \"Misión 1\"\n",
    "notas[mision] = {}\n",
    "\n",
    "criterios = {'Obtener los datos a partir del archivo(s). Se califica que el Dataframe sea cargado correctamente.':0.25,\n",
    "             'Inspeccionar el dataframe obtenido con el fin de determinar dimensiones (filas y columnas), tipos de datos y diagnóstico sobre datos erróneos o faltantes (incluyendo la definición y aplicación de una política para solventarlos). Se califica la impresión u otra forma de reporte de esta información.':0.25,\n",
    "             'Interpretar el contenido de los datos en el contexto del problema dado. Se califican impresiones u otra forma de reporte sobre \"qué hay en los datos\" (pensando en el interés del stakeholder), por ejemplo: qué tipo de información hay en las variables, en qué categorías podrían dividirse, cuáles pueden ser redundantes.':0.25,\n",
    "             'Seleccionar un sub-conjunto razonable de variables descartando aquellas que no tengan suficiente relevancia en el contexto dado. Se califica que se reemplace el (o se cree un) dataframe que conserve únicamente la porción de interés de los datos originales.':0.25,\n",
    "            }\n",
    "\n",
    "for i in criterios.keys():\n",
    "    print(i)\n",
    "    notas[mision][i] = (float(input(f\"Asigne una nota de 0 a {criterios[i]}: \")))\n",
    "    print(\"\")"
   ]
  },
  {
   "cell_type": "code",
   "execution_count": 3,
   "id": "500253d3",
   "metadata": {},
   "outputs": [
    {
     "name": "stdout",
     "output_type": "stream",
     "text": [
      "N/A\n"
     ]
    }
   ],
   "source": [
    "# realimentacion[mision] = 'N/A'\n",
    "realimentacion[mision] = 'N/A'\n",
    "print(realimentacion[mision])"
   ]
  },
  {
   "cell_type": "markdown",
   "id": "d1c26a27",
   "metadata": {},
   "source": [
    "## Misión 2\n",
    "\n",
    "El propósito de esta misión es caracterizar las variables de interés y las relaciones entre ellas (análisis univariado y bivariado primordialmente visual)."
   ]
  },
  {
   "cell_type": "code",
   "execution_count": 4,
   "id": "7427e692",
   "metadata": {},
   "outputs": [
    {
     "name": "stdout",
     "output_type": "stream",
     "text": [
      "Inspeccionar el comportamiento de variables individuales para aquellas que lo ameriten según el contexto (para esto es útil pensar: \"qué pregunta puedo responder al stakeholder con este análisis\"). Se califica que se presenten descriptivos básicos o preferiblemente visualizaciones de las distribuciones de variables clave.\n",
      "Asigne una nota de 0 a 0.3: 0.3\n",
      "\n",
      "Inspeccionar las relaciones entre parejas de variables. Particularmente, interesa identificar: (1) cuáles variables socio-demográficas parecen tener incidencia en las que podrían ser variables dependientes de interés, (2) cuáles de las variables con incidencia en variable(s) dependiente(s) parecen estar correlacionadas entre sí, pues esto podría representar retos. Se califica prioritariamente la inspección a través de visualizaciones, por ejemplo, pairplots que permitan observar relaciones entre variables numéricas, boxplots o gráficas de violín que permitan observar medidas de tendencia central y dispersión para los grupos inducidos por variables categóricas importantes. Son bienvenidas las medidas de correlación y pruebas estadísticas, como forma rigurosa para poder sacar conclusiones del proceso de inspección, pero no son obligatorias por no hacer parte del contenido del curso.\n",
      "Asigne una nota de 0 a 0.4: 0.2\n",
      "\n",
      "Seleccionar, si es el caso, un nuevo sub-conjunto con las variables más relevantes para los análisis solicitados en la MISIÓN 3. Se califica que la selección de estas variables tenga sentido en el contexto del problema y esté soportada en los hallazgos previos de esta misión. En caso de elegir modelos lineales en la MISIÓN 3, es importante evitar incluir variables correlacionadas entre si o, alternativamente, hacer explícito cómo se abordará ese reto posteriormente (e.g., selección iterativa de variables, Lasso, PCA, si se tiene el conocimiento).\n",
      "Asigne una nota de 0 a 0.3: 0.3\n",
      "\n"
     ]
    }
   ],
   "source": [
    "mision = \"Misión 2\"\n",
    "notas[mision] = {}\n",
    "\n",
    "criterios = {'Inspeccionar el comportamiento de variables individuales para aquellas que lo ameriten según el contexto (para esto es útil pensar: \"qué pregunta puedo responder al stakeholder con este análisis\"). Se califica que se presenten descriptivos básicos o preferiblemente visualizaciones de las distribuciones de variables clave.':0.3,\n",
    "             'Inspeccionar las relaciones entre parejas de variables. Particularmente, interesa identificar: (1) cuáles variables socio-demográficas parecen tener incidencia en las que podrían ser variables dependientes de interés, (2) cuáles de las variables con incidencia en variable(s) dependiente(s) parecen estar correlacionadas entre sí, pues esto podría representar retos. Se califica prioritariamente la inspección a través de visualizaciones, por ejemplo, pairplots que permitan observar relaciones entre variables numéricas, boxplots o gráficas de violín que permitan observar medidas de tendencia central y dispersión para los grupos inducidos por variables categóricas importantes. Son bienvenidas las medidas de correlación y pruebas estadísticas, como forma rigurosa para poder sacar conclusiones del proceso de inspección, pero no son obligatorias por no hacer parte del contenido del curso.':0.4,\n",
    "             'Seleccionar, si es el caso, un nuevo sub-conjunto con las variables más relevantes para los análisis solicitados en la MISIÓN 3. Se califica que la selección de estas variables tenga sentido en el contexto del problema y esté soportada en los hallazgos previos de esta misión. En caso de elegir modelos lineales en la MISIÓN 3, es importante evitar incluir variables correlacionadas entre si o, alternativamente, hacer explícito cómo se abordará ese reto posteriormente (e.g., selección iterativa de variables, Lasso, PCA, si se tiene el conocimiento).':0.3,\n",
    "            }\n",
    "\n",
    "for i in criterios.keys():\n",
    "    print(i)\n",
    "    notas[mision][i] = (float(input(f\"Asigne una nota de 0 a {criterios[i]}: \")))\n",
    "    print(\"\")"
   ]
  },
  {
   "cell_type": "code",
   "execution_count": 234,
   "id": "b8d6ce10",
   "metadata": {},
   "outputs": [
    {
     "name": "stdout",
     "output_type": "stream",
     "text": [
      "Visualizaciones aceptables. Falto hacer observaciones de los gráficos.\n"
     ]
    }
   ],
   "source": [
    "# realimentacion[mision] = 'N/A'\n",
    "realimentacion[mision] = 'Visualizaciones aceptables. Falto hacer observaciones de los gráficos.'\n",
    "\n",
    "print(realimentacion[mision])"
   ]
  },
  {
   "cell_type": "markdown",
   "id": "eb630533",
   "metadata": {},
   "source": [
    "## Misión 3\n",
    "\n",
    "El propósito de esta misión es plantear, correr e interpretar al menos un modelo que busque relacionar variables socio-demográficas con el desempeño de las estudiantes en la prueba Saber11."
   ]
  },
  {
   "cell_type": "code",
   "execution_count": 235,
   "id": "fac2165b",
   "metadata": {},
   "outputs": [
    {
     "name": "stdout",
     "output_type": "stream",
     "text": [
      "Proponer una selección de variables y un tipo de modelo acorde al tipo de problema y tipo de variables. Se califica que la elección de variables y modelo tenga sentido en el contexto del problema y que obedezca a los hallazgos de la MISIÓN 2 y que, por lo menos, se tengan en consideración los supuestos básicos del modelo elegido.\n",
      "Asigne una nota de 0 a 0.3: 0.3\n",
      "\n",
      "Utilizar alguno de los paquetes especializados en modelos estadísticos o de machine learning para definir y \"entrenar\" el  modelo elegido. Se califica la correcta utilización del paquete, incluyendo posibles pasos de pre-procesamiento que requiera el modelo (e.g., agregar término independiente, normalizar, separar datos de prueba).\n",
      "Asigne una nota de 0 a 0.4: 0.4\n",
      "\n",
      "Reportar medidas de desempeño relevantes para el modelo propuesto (R^2, adj R^2, MSE, RMSE, MAE si el enfoque está en regresión, o \"accuracy\", \"precision\", \"recall\", \"roc_auc\" si el enfoque está en clasificación). Se califican impresiones u otras formas de reportar estas métricas, así como la interpretación de las mismas (i.e., concluir sobre la validez del modelo y los posibles hallazgos que se podrían reportar al stakeholder).\n",
      "Asigne una nota de 0 a 0.3: 0.3\n",
      "\n"
     ]
    }
   ],
   "source": [
    "mision = \"Misión 3\"\n",
    "notas[mision] = {}\n",
    "\n",
    "criterios = {'Proponer una selección de variables y un tipo de modelo acorde al tipo de problema y tipo de variables. Se califica que la elección de variables y modelo tenga sentido en el contexto del problema y que obedezca a los hallazgos de la MISIÓN 2 y que, por lo menos, se tengan en consideración los supuestos básicos del modelo elegido.':0.3,\n",
    "             'Utilizar alguno de los paquetes especializados en modelos estadísticos o de machine learning para definir y \"entrenar\" el  modelo elegido. Se califica la correcta utilización del paquete, incluyendo posibles pasos de pre-procesamiento que requiera el modelo (e.g., agregar término independiente, normalizar, separar datos de prueba).':0.4,\n",
    "             'Reportar medidas de desempeño relevantes para el modelo propuesto (R^2, adj R^2, MSE, RMSE, MAE si el enfoque está en regresión, o \"accuracy\", \"precision\", \"recall\", \"roc_auc\" si el enfoque está en clasificación). Se califican impresiones u otras formas de reportar estas métricas, así como la interpretación de las mismas (i.e., concluir sobre la validez del modelo y los posibles hallazgos que se podrían reportar al stakeholder).':0.3,\n",
    "            }\n",
    "\n",
    "for i in criterios.keys():\n",
    "    print(i)\n",
    "    notas[mision][i] = (float(input(f\"Asigne una nota de 0 a {criterios[i]}: \")))\n",
    "    print(\"\")"
   ]
  },
  {
   "cell_type": "code",
   "execution_count": 236,
   "id": "36267e2d",
   "metadata": {},
   "outputs": [
    {
     "name": "stdout",
     "output_type": "stream",
     "text": [
      "No hay explicación y justificación del modelo. Le falta complejidad.\n"
     ]
    }
   ],
   "source": [
    "# realimentacion[mision] = 'N/A'\n",
    "realimentacion[mision] = 'No hay explicación y justificación del modelo. Le falta complejidad.'\n",
    "\n",
    "print(realimentacion[mision])"
   ]
  },
  {
   "cell_type": "markdown",
   "id": "f4858fa0",
   "metadata": {},
   "source": [
    "## Misión 4\n",
    "\n",
    "El propósito de esta misión es identificar por lo menos un aspecto de los análisis anteriores (MISIONES 2 o 3) que pueda verse enriquecido al permitir interactividad al analista o stakeholder."
   ]
  },
  {
   "cell_type": "code",
   "execution_count": 238,
   "id": "4a372d11",
   "metadata": {},
   "outputs": [
    {
     "name": "stdout",
     "output_type": "stream",
     "text": [
      "Identificar un parámetro que, según el contexto del problema, sería interesante poder modificar. Se califica la elección de dicho parámetro en términos de la pertinencia de la pregunta que el analista/stakeholder puede explorar al modificarlo.\n",
      "Asigne una nota de 0 a 0.2: 0.2\n",
      "\n",
      "Elegir un tipo de control (widget) adecuado para el parámetro elegido. Se califica en términos de qué tan funcional resulta en términos de la experiencia del usuario.\n",
      "Asigne una nota de 0 a 0.2: 0.2\n",
      "\n",
      "Implementar la(s) función(es) que permiten que se ejecuten adecuadamente el/los análisis elegido(s) como respuesta al uso de los controles. Se califica que la ejecución sea correcta.\n",
      "Asigne una nota de 0 a 0.4: 0.4\n",
      "\n",
      "Proveer directa o indirectamente las instrucciones necesarias para que cualquier usuario pueda poner en práctica la herramienta. Se califica que la herramienta se pueda usar sin necesidad de supuestos o experiencia previa del usuario.\n",
      "Asigne una nota de 0 a 0.2: 0.2\n",
      "\n"
     ]
    }
   ],
   "source": [
    "mision = \"Misión 4\"\n",
    "notas[mision] = {}\n",
    "\n",
    "criterios = {'Identificar un parámetro que, según el contexto del problema, sería interesante poder modificar. Se califica la elección de dicho parámetro en términos de la pertinencia de la pregunta que el analista/stakeholder puede explorar al modificarlo.':0.2,\n",
    "             'Elegir un tipo de control (widget) adecuado para el parámetro elegido. Se califica en términos de qué tan funcional resulta en términos de la experiencia del usuario.':0.2,\n",
    "             'Implementar la(s) función(es) que permiten que se ejecuten adecuadamente el/los análisis elegido(s) como respuesta al uso de los controles. Se califica que la ejecución sea correcta.':0.4,\n",
    "             'Proveer directa o indirectamente las instrucciones necesarias para que cualquier usuario pueda poner en práctica la herramienta. Se califica que la herramienta se pueda usar sin necesidad de supuestos o experiencia previa del usuario.':0.2,\n",
    "            }\n",
    "\n",
    "for i in criterios.keys():\n",
    "    print(i)\n",
    "    notas[mision][i] = (float(input(f\"Asigne una nota de 0 a {criterios[i]}: \")))\n",
    "    print(\"\")"
   ]
  },
  {
   "cell_type": "code",
   "execution_count": 239,
   "id": "5c93fd02",
   "metadata": {},
   "outputs": [
    {
     "name": "stdout",
     "output_type": "stream",
     "text": [
      "N/A\n"
     ]
    }
   ],
   "source": [
    "realimentacion[mision] = 'N/A'\n",
    "# realimentacion[mision] = 'Buenas visualizaciones. Faltó actualizar el boxplot con los cambios al widget.'\n",
    "print(realimentacion[mision])"
   ]
  },
  {
   "cell_type": "markdown",
   "id": "30154953",
   "metadata": {},
   "source": [
    "## Compilación"
   ]
  },
  {
   "cell_type": "code",
   "execution_count": 240,
   "id": "5bc9a0b0",
   "metadata": {},
   "outputs": [],
   "source": [
    "with open(\"./grades_db.csv\", \"a+\") as f:\n",
    "    puntajes = ''\n",
    "    for i in range(len(notas)):\n",
    "        puntajes += '\\t'.join([str(i) for i in notas[f'Misión {i + 1}'].values()])\n",
    "        puntajes += '\\t'+realimentacion[f'Misión {i + 1}']+'\\t'\n",
    "    f.write(f\"{id_estudiante}\\t{puntajes}\\n\")"
   ]
  },
  {
   "cell_type": "code",
   "execution_count": null,
   "id": "aae518ba",
   "metadata": {},
   "outputs": [],
   "source": [
    "'''\n",
    "if(len(f.readlines()) == 0):\n",
    "        titulos = ''\n",
    "        for i in range(len(notas)):\n",
    "            titulos += '\\t'.join([str(i) for i in notas[f'Misión {i + 1}'].keys()])\n",
    "            titulos += '\\tRealimentación\\t'\n",
    "        f.write('Código\\t'+titulos+'\\n')\n",
    "'''"
   ]
  }
 ],
 "metadata": {
  "kernelspec": {
   "display_name": "Python 3",
   "language": "python",
   "name": "python3"
  },
  "language_info": {
   "codemirror_mode": {
    "name": "ipython",
    "version": 3
   },
   "file_extension": ".py",
   "mimetype": "text/x-python",
   "name": "python",
   "nbconvert_exporter": "python",
   "pygments_lexer": "ipython3",
   "version": "3.7.10"
  }
 },
 "nbformat": 4,
 "nbformat_minor": 5
}
