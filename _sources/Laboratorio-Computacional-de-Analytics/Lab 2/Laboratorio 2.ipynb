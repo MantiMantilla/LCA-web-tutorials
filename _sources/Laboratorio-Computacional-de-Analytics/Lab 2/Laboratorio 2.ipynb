{
 "cells": [
  {
   "cell_type": "markdown",
   "metadata": {
    "nbgrader": {
     "grade": false,
     "grade_id": "cell-c9bfcc10c56bc603",
     "locked": true,
     "schema_version": 3,
     "solution": false,
     "task": false
    }
   },
   "source": [
    "<img src=\"Archivos/miad4.png\" width=800x>\n",
    "\n",
    "# Laboratorio 2\n",
    "\n",
    "## Hito: desarrollo de una herramienta analítica usando paquetes especializados para análisis de datos en Python\n",
    "\n",
    "Este laboratorio corresponde al 34% de la calificación total del curso y su entrega está planteada para el final de la semana 8. Su objetivo es poner en práctica las competencias adquiridas sobre el uso de los paquetes `pandas`, `seaborn` y Scikit-Learn, entre otros, para hacer exploración, análisis descriptivo y abordar preguntas de negocio para un caso basado en datos reales. \n",
    "\n",
    "Al desarrollar este laboratorio, pondrás a prueba tus habilidades para:\n",
    "\n",
    "1. Identificar y abordar una pregunta de negocio a partir de un contexto.\n",
    "2. Cargar datos desde archivos utilizando métodos de `pandas`.\n",
    "3. Explorar, manejar, limpiar y agregar objetos `DataFrame`.\n",
    "5. Implementar análisis combinando métricas descriptivas, visualización, filtrado y agrupación.\n",
    "6. Implementar análisis basado en modelos estadísticos o de *machine learning*.\n",
    "7. Utilizar paquetes como `ipywidgets` o `panel` para agregar interactividad a los análisis.\n",
    "\n",
    "Te recomendamos leer por completo el enunciado del laboratorio antes de comenzar, de forma que tengas claro el propósito completo de la actividad y puedas desarrollar tu solución apuntando a él en cada paso."
   ]
  },
  {
   "cell_type": "markdown",
   "metadata": {
    "nbgrader": {
     "grade": false,
     "grade_id": "cell-cfa5e4dba79247b3",
     "locked": true,
     "schema_version": 3,
     "solution": false,
     "task": false
    }
   },
   "source": [
    "##  Contexto: desigualdad y factores de éxito en pruebas Saber 11 (Colombia)\n",
    "\n",
    "El ICFES es el Instituto Colombiano para el Fomento de la Educación Superior y está adscrito al Ministerio de Educación a nivel nacional. Como parte de sus funciones, el ICFES administra las pruebas *Saber 11*, las cuales evalúan a todos los estudiantes del país al final de su educación secundaria. El examen contiene preguntas que evalúan una variedad de áreas del conocimiento (p.ej., matemáticas) y se lleva a cabo dos veces al año, acomodandose a los diferentes calendarios académicos que siguen las instituciones educativas. Al momento de inscribirse a las pruebas, los estudiantes diligencian un formulario que recoge información socio-demográfica y relacionada con la institución a la que pertenecen. El fin es obtener información con respecto al desempeño de los estudiantes en la prueba y de sus características.\n",
    "\n",
    "<img src=\"Archivos/saberpro.png\" width=700x>\n",
    "\n",
    "Al igual que otros países de la región, Colombia tiene grandes retos en términos de desigualdad, particularmente en el contexto de educación primaria y secundaria. Por esta razón, para el Estado colombiano es muy valioso el amplio registro de datos que el ICFES genera alrededor de las pruebas Saber 11, pues con ellos se pueden generar análisis sobre la calidad de la educación en el país y eventualmente dar lugar a recomendaciones sobre políticas públicas. En particular, la problemática a abordar en este caso de estudio es: desigualdad y factores de éxito en las pruebas Saber 11. \n",
    "\n",
    "Los objetivos de este caso de estudio son:\n",
    "\n",
    "* Entender el contenido de los archivos de datos proporcionados sobre las pruebas Saber 11, generar un reporte acerca de sus características principales y seleccionar las partes de dicho contenido que podrían ser relevantes para el análisis.\n",
    "* Identificar características de las variables de interés y relaciones entre ellas, por ejemplo, a través de agrupación, visualizaciones y estadísticas descriptivas.\n",
    "* Abordar preguntas de negocio relacionadas con la problemática planteada con respecto a los factores que puedan incidir significativamente en el puntaje, particularmente, para aquellas personas cuyo desempeño se pueda considerar malo.\n",
    "* Generar una herramienta sencilla que permita a un usuario interactuar con alguno de los análisis realizados de forma relevante en el contexto del problema."
   ]
  },
  {
   "cell_type": "markdown",
   "metadata": {
    "nbgrader": {
     "grade": false,
     "grade_id": "cell-997648f928b84190",
     "locked": true,
     "schema_version": 3,
     "solution": false,
     "task": false
    }
   },
   "source": [
    "## 1. Entender el contenido de los archivos de datos\n",
    "\n",
    "En esta misión te harás una idea general del contenido de los datos y seleccionarás un segmento de ellos que consideres útil para los análisis propuestos.\n",
    "\n",
    "Pautas generales:\n",
    "* Leer los archivos de datos y agregarlos según sea necesario (p.ej., utilizando los métodos `append` o `concat`).\n",
    "* Inspeccionar el archivo a partir de su encabezado, columnas y descripciones de las variables según su tipo (p.ej., numéricas o categóricas).\n",
    "* Declarar en una estructura de datos (p.ej., una lista) un sub-conjunto de variables que puedan ser relevantes para la problemática de interés.\n",
    "\n",
    "Preguntas guía:\n",
    "* ¿Qué dimensiones tienen los datos?\n",
    "* ¿Con cuántos años y periodos de evaluación se cuenta?\n",
    "* ¿Cuáles variables pueden ser de interés para la problemática planteada?\n",
    "* ¿Qué porcentaje de datos faltantes o no válidos hay en las columnas de interés? ¿Cómo abordas el análisis?\n",
    "\n",
    "Esta misión corresponde a tu trabajo interno como analista, por lo cual no tiene un entregable para el cliente. Para completarla, deberás generar un reporte básico sobre el contenido de los archivos de datos, ya sea a través de la impresión de mensajes, la presentación de tablas de resumen, entre otros."
   ]
  },
  {
   "cell_type": "code",
   "execution_count": null,
   "metadata": {
    "nbgrader": {
     "grade": true,
     "grade_id": "cell-83d3b414ead0cca9",
     "locked": false,
     "points": 10,
     "schema_version": 3,
     "solution": true,
     "task": false
    }
   },
   "outputs": [],
   "source": [
    "# Código\n",
    "\n",
    "\n"
   ]
  },
  {
   "cell_type": "markdown",
   "metadata": {
    "nbgrader": {
     "grade": false,
     "grade_id": "cell-015824b401dc270e",
     "locked": true,
     "schema_version": 3,
     "solution": false,
     "task": false
    }
   },
   "source": [
    "## 2. Identificar características y relaciones en las variables\n",
    "\n",
    "En esta misión utilizarás análisis descriptivos para explorar patrones o relaciones en las variables de interés para la problemática planteada.\n",
    "\n",
    "Pautas generales:\n",
    "* Utilizar `matplotlib` o `seaborn` para inspeccionar visualmente variables de interés. Los métodos `distplot`, `pairplot`, `boxplot`, o `violinplot`, entre otros, pueden ser útiles.\n",
    "* Utilizar el método `groupby` de `pandas`, en conjunto con métodos de visualización, para proveer evidencia del impacto de las variables socio-demográficas de interés sobre el desempeño de los estudiantes en la prueba.\n",
    "* Plantear tres preguntas de *analytics*.\n",
    "\n",
    "Preguntas guía:\n",
    "* ¿Hay patrones de interés en las distribuciones de las variables o en las relaciones entre ellas?\n",
    "* ¿Consideras que existe algún impacto significativo de variables socio-demográficas en los puntajes globales o por área?\n",
    "* ¿Sobre cuáles variables harías un análisis más profundo?\n",
    "\n",
    "En esta misión presentarás un reporte (p.ej., un conjunto de visualizaciones) que de cuenta de los comportamientos más interesantes que observes en las variables de interés para el contexto propuesto."
   ]
  },
  {
   "cell_type": "code",
   "execution_count": null,
   "metadata": {
    "nbgrader": {
     "grade": true,
     "grade_id": "cell-e13f54c7af1552c9",
     "locked": false,
     "points": 10,
     "schema_version": 3,
     "solution": true,
     "task": false
    }
   },
   "outputs": [],
   "source": [
    "# Código\n",
    "\n"
   ]
  },
  {
   "cell_type": "markdown",
   "metadata": {
    "nbgrader": {
     "grade": false,
     "grade_id": "cell-216057b23d3cc36d",
     "locked": true,
     "schema_version": 3,
     "solution": false,
     "task": false
    }
   },
   "source": [
    "## 3. Abordar preguntas de negocio planteadas\n",
    "\n",
    "En esta misión propondrás, implementarás y evaluarás el desempeño de uno o más modelos que busquen explicar las relaciones entre factores socio-demográficos y desempeño en la prueba.\n",
    "\n",
    "Pautas generales:\n",
    "* Seleccionar variables y proponer modelos acordes a estas y al contexto del problema.\n",
    "* Utilizar los paquetes `statsmodels` y Scikit-Learn para indagar sobre los aspectos que contribuyen al éxito de los estudiantes. Los módulos correspondientes a regresión lineal y regresión logística pueden ser útiles.\n",
    "* Utilizar las métricas de evaluación de desempeño (disponibles en los paquetes mencionados), para concluir sobre la validez de los modelos propuestos.\n",
    "\n",
    "Preguntas guía:\n",
    "* ¿Existe algún sub-conjunto de variables socio-demográficas que explique razonablemente bien el desempeño de los estudiantes en la prueba?\n",
    "* Definiendo como Estudiante en Riesgo a quien tenga un puntaje por debajo del percentil $\\gamma$ en más de la mitad de las áreas de la prueba, ¿cuáles variables socio-demográficas permitirían predecir si un estudiante pertenecerá a dicho grupo?\n",
    "\n",
    "En esta misión presentarás un reporte sobre el desempeño de los modelos propuestos para abordar al menos una de las preguntas guía planteadas, acompañado de una conclusión sobre los resultados del modelo (si son válidos) en el contexto de la problemática planteada."
   ]
  },
  {
   "cell_type": "code",
   "execution_count": 23,
   "metadata": {
    "collapsed": true,
    "nbgrader": {
     "grade": true,
     "grade_id": "cell-94b22dd2cafa56a2",
     "locked": false,
     "points": 10,
     "schema_version": 3,
     "solution": true,
     "task": false
    }
   },
   "outputs": [],
   "source": [
    "# Código\n",
    "\n"
   ]
  },
  {
   "cell_type": "markdown",
   "metadata": {
    "nbgrader": {
     "grade": false,
     "grade_id": "cell-378e2b071d246af8",
     "locked": true,
     "schema_version": 3,
     "solution": false,
     "task": false
    }
   },
   "source": [
    "## 4. Desarrollar una herramienta interactiva de análisis\n",
    "\n",
    "En esta misión desarrollarás una herramienta interactiva sencilla que sea relevante en el contexto del problema, a partir de alguno de los análisis realizados en las misiones [dos](#2.-Identificar-características-y-relaciones-en-las-variables) o [tres](#3.-Abordar-preguntas-de-negocio-planteadas).\n",
    "\n",
    "Pautas generales:\n",
    "* Seleccionar uno de los análisis previos que pueda verse enriquecido con alguna característica de interactividad.\n",
    "* Seleccionar los parámetros que el usuario podrá cambiar.\n",
    "* Desarrollar las funciones que se deben ejecutar con cada acción del usuario.\n",
    "* Utilizar los paquetes `ipywidgets` o `panel` para implementar la herramienta.\n",
    "\n",
    "Pregunta guía:\n",
    "* ¿Cuál o cuáles preguntas podrá hacerle el usuario a la herramienta y cómo aporta la respuesta al análisis?\n",
    "* ¿Qué aprendizajes clave puede explorar u obtener el usuario con esta herramienta?\n",
    "\n",
    "En esta misión entregarás la implementación de tu herramienta, acompañada de las instrucciones necesarias para que un usuario la pueda utilizar."
   ]
  },
  {
   "cell_type": "code",
   "execution_count": null,
   "metadata": {
    "nbgrader": {
     "grade": true,
     "grade_id": "cell-29052f96082e3438",
     "locked": false,
     "points": 10,
     "schema_version": 3,
     "solution": true,
     "task": false
    }
   },
   "outputs": [],
   "source": [
    "# Código\n"
   ]
  },
  {
   "cell_type": "markdown",
   "metadata": {
    "nbgrader": {
     "grade": false,
     "grade_id": "cell-32cfb4282f725e3c",
     "locked": true,
     "schema_version": 3,
     "solution": false,
     "task": false
    }
   },
   "source": [
    "## Referencias\n",
    "\n",
    "*  J. VanderPlas (2016) *Python Data Science Handbook: Essential Tools for Working with Data* O'Reilly Media, Inc.\n",
    "*  scikit-learn developers . (2020). Demo of DBSCAN clustering algorithm. 11 Diciembre 2020, de scikit-learn Sitio web: https://scikit-learn.org/stable/auto_examples/cluster/plot_dbscan.html#sphx-glr-auto-examples-cluster-plot-dbscan-py\n",
    "\n",
    "## Créditos\n",
    "\n",
    "__Autor(es)__: Camilo Hernando Gómez Castro, Alejandro Mantilla Redondo, Diego Alejandro Cely Gómez\n",
    "\n",
    "__Fecha última actualización__: 16/09/2021"
   ]
  }
 ],
 "metadata": {
  "celltoolbar": "Create Assignment",
  "kernelspec": {
   "display_name": "Python 3",
   "language": "python",
   "name": "python3"
  },
  "language_info": {
   "codemirror_mode": {
    "name": "ipython",
    "version": 3
   },
   "file_extension": ".py",
   "mimetype": "text/x-python",
   "name": "python",
   "nbconvert_exporter": "python",
   "pygments_lexer": "ipython3",
   "version": "3.7.10"
  }
 },
 "nbformat": 4,
 "nbformat_minor": 2
}
