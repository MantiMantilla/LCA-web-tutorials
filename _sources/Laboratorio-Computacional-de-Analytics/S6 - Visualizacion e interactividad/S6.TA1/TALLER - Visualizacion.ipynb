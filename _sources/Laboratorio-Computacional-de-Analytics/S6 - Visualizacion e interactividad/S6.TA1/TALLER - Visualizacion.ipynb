{
 "cells": [
  {
   "cell_type": "markdown",
   "metadata": {
    "nbgrader": {
     "grade": false,
     "grade_id": "cell-0202c9319ef88f3b",
     "locked": true,
     "schema_version": 3,
     "solution": false,
     "task": false
    }
   },
   "source": [
    "<img src=\"./Archivos/miad4.png\" width=800x>\n",
    "\n",
    "# Visualización\n",
    "\n",
    "En este taller implementarás métodos de las librerías `ipywidgets` y `plotly`, para integrarlos en procesos de visualización de datos."
   ]
  },
  {
   "cell_type": "markdown",
   "metadata": {
    "nbgrader": {
     "grade": false,
     "grade_id": "cell-bbc2ca82f4643254",
     "locked": true,
     "schema_version": 3,
     "solution": false,
     "task": false
    }
   },
   "source": [
    "## Habilidades en práctica\n",
    "\n",
    "Al realizar este taller podrás revisar tu progreso para:\n",
    "\n",
    "**1.** Crear diferentes tipos de visualizaciones en `plotly` y personalizarlas de manera amigable. <br />\n",
    "**2.** Utilizar `ipywidgets` para explorar datos de forma interactiva. <br />\n",
    "**3.** Crear visualizaciones interactivas en `plotly` con `ipywidgets`."
   ]
  },
  {
   "cell_type": "markdown",
   "metadata": {
    "nbgrader": {
     "grade": false,
     "grade_id": "cell-cdfb2f65f277a712",
     "locked": true,
     "schema_version": 3,
     "solution": false,
     "task": false
    }
   },
   "source": [
    "## Instrucciones\n",
    "\n",
    "En cada uno de los siguientes ejercicios deberás escribir el código solicitado estrictamente en las celdas indicadas para ello, teniendo en cuenta las siguientes recomendaciones:\n",
    "\n",
    "* No crear, eliminar o modificar celdas de este Notebook (salvo lo que se te indique).\n",
    "\n",
    "Esta es una actividad calificada y, por lo tanto, debe ser resuelta individualmente."
   ]
  },
  {
   "cell_type": "markdown",
   "metadata": {
    "nbgrader": {
     "grade": false,
     "grade_id": "cell-2ad99bdb8f21dc15",
     "locked": true,
     "schema_version": 3,
     "solution": false,
     "task": false
    }
   },
   "source": [
    "## Ejercicios"
   ]
  },
  {
   "cell_type": "markdown",
   "metadata": {
    "nbgrader": {
     "grade": false,
     "grade_id": "cell-d1117d2dc5c7ce9f",
     "locked": true,
     "schema_version": 3,
     "solution": false,
     "task": false
    }
   },
   "source": [
    "En la siguente celda encuentras declarados los paquetes necesarios para el desarollo de este taller."
   ]
  },
  {
   "cell_type": "code",
   "execution_count": null,
   "metadata": {
    "nbgrader": {
     "grade": false,
     "grade_id": "cell-dd397dc6a693cd46",
     "locked": true,
     "schema_version": 3,
     "solution": false,
     "task": false
    }
   },
   "outputs": [],
   "source": [
    "# Esta celda no es modificable.\n",
    "\n",
    "import plotly.graph_objects as go\n",
    "import ipywidgets as widgets\n",
    "import pandas as pd\n",
    "from ipywidgets import interactive"
   ]
  },
  {
   "cell_type": "markdown",
   "metadata": {
    "nbgrader": {
     "grade": false,
     "grade_id": "cell-ad5b3b654bf65d41",
     "locked": true,
     "schema_version": 3,
     "solution": false,
     "task": false
    }
   },
   "source": [
    "## Estadísticas bancarias"
   ]
  },
  {
   "cell_type": "markdown",
   "metadata": {
    "nbgrader": {
     "grade": false,
     "grade_id": "cell-dce0742e7440a658",
     "locked": true,
     "schema_version": 3,
     "solution": false,
     "task": false
    }
   },
   "source": [
    "A continuación, encuentras la descripción de las variables contenidas en la base de datos 'BankChurners.csv'. Utiliza esta información para dar respuesta a los ejercicios 1 y 2."
   ]
  },
  {
   "cell_type": "markdown",
   "metadata": {
    "nbgrader": {
     "grade": false,
     "grade_id": "cell-75eb080db18315fa",
     "locked": true,
     "schema_version": 3,
     "solution": false,
     "task": false
    }
   },
   "source": [
    "| <center>Variable<center> | <center>Descripción<center> | \n",
    "| :--- | :--- | \n",
    "|  CLIENTNUM  | Número de cliente|\n",
    "|  Attrition_Flag | Si la cuenta del cliente se encuentra activa |\n",
    "|  Customer_Age  | Edad del cliente|\n",
    "|  Gender  | Género de cliente|\n",
    "|  Dependent_count  | Número de personas a cargo|\n",
    "|  Education_Level | Nivel máximo de escolaridad alcanzado|\n",
    "| Marital_Status | Estado conyugal |\n",
    "|  Income_Category  | Categoría de ingresos anuales del titular de la cuenta|\n",
    "|  Card_Category  |  Tipo de tarjeta (Azul, Plata, Oro, Platino)|\n",
    "|  Months_on_book  | Periodo de relación con el banco|\n",
    "|  Total_Relationship_Count  | Número total de productos del cliente|\n",
    "|  Months_Inactive_12_mon | Número de meses de inactividad en los últimos 12 meses|\n",
    "|  Contacts_Count_12_mon  | Número de contactos en los últimos 12 meses|\n",
    "|  Credit_Limit  | Límite de crédito de la tarjeta de crédito|\n",
    "|  Total_Revolving_Bal | Saldo rotativo total de la tarjeta de crédito|\n",
    "|  Avg_Open_To_Buy  | Línea de crédito abierta (media de los últimos 12 meses)|\n",
    "|  Total_Amt_Chng_Q4_Q1  | Cambio en el monto de transacciones (cuarto trimestre a primer trimestre) |\n",
    "|  Total_Trans_Amt  | Monto total de las transacciones (últimos 12 meses)|\n",
    "|  Total_Trans_Ct  | Recuento total de transacciones (últimos 12 meses)|\n",
    "|  Total_Ct_Chng_Q4_Q1  | Cambio en el número de transacciones (cuarto trimestre a primer trimestre) |\n",
    "|  Avg_Utilization_Ratio  | Ratio de utilización media de la tarjeta|"
   ]
  },
  {
   "cell_type": "code",
   "execution_count": null,
   "metadata": {
    "nbgrader": {
     "grade": false,
     "grade_id": "cell-587b69ee8615f495",
     "locked": true,
     "schema_version": 3,
     "solution": false,
     "task": false
    }
   },
   "outputs": [],
   "source": [
    "# Esta celda no es modificable.\n",
    "\n",
    "df = pd.read_csv('Archivos/BankChurners.csv')\n",
    "df.head()"
   ]
  },
  {
   "cell_type": "markdown",
   "metadata": {
    "nbgrader": {
     "grade": false,
     "grade_id": "cell-c059facef12c28b7",
     "locked": true,
     "schema_version": 3,
     "solution": false,
     "task": false
    }
   },
   "source": [
    "### Ejercicio 1\n",
    "Utiliza `plotly` para realizar un  diagramas de torta sobre el estado conyugal de los clientes (resaltando el más predominante)."
   ]
  },
  {
   "cell_type": "code",
   "execution_count": null,
   "metadata": {
    "nbgrader": {
     "grade": true,
     "grade_id": "cell-86d857eb7410555b",
     "locked": false,
     "points": 1,
     "schema_version": 3,
     "solution": true,
     "task": false
    }
   },
   "outputs": [],
   "source": [
    "# Implementa tu respuesta en esta celda\n",
    "labels = df['Marital_Status'].unique()\n",
    "values = df['Marital_Status'].value_counts()\n",
    "\n",
    "fig = go.Figure(data=[go.Pie(labels=labels, values=values,  pull=[.1, 0, 0, 0.0])])\n",
    "\n",
    "\n",
    "fig.show()"
   ]
  },
  {
   "cell_type": "markdown",
   "metadata": {
    "nbgrader": {
     "grade": false,
     "grade_id": "cell-023c0968c4f646f9",
     "locked": true,
     "schema_version": 3,
     "solution": false,
     "task": false
    }
   },
   "source": [
    "### Ejercicio 2\n",
    "Utiliza `plotly` para realizar un gráfico que permita verificar si el cambio en el monto de transacciones (cuarto trimestre a primer trimestre) se ajusta a una distribución normal."
   ]
  },
  {
   "cell_type": "code",
   "execution_count": null,
   "metadata": {
    "nbgrader": {
     "grade": true,
     "grade_id": "cell-346158b29fcf8b86",
     "locked": false,
     "points": 1,
     "schema_version": 3,
     "solution": true,
     "task": false
    }
   },
   "outputs": [],
   "source": [
    "# Implementa tu respuesta en esta celda\n",
    "import plotly.figure_factory as ff\n",
    "hist_data = [df['Total_Amt_Chng_Q4_Q1']]\n",
    "group_labels = ['Monto de transacciones Q4 a Q1'] # name of the dataset\n",
    "\n",
    "fig = ff.create_distplot(hist_data, group_labels)\n",
    "fig.show()"
   ]
  },
  {
   "cell_type": "markdown",
   "metadata": {
    "nbgrader": {
     "grade": false,
     "grade_id": "cell-8adfbd219c5c52ac",
     "locked": true,
     "schema_version": 3,
     "solution": false,
     "task": false
    }
   },
   "source": [
    "## Base de datos de mercadeo"
   ]
  },
  {
   "cell_type": "markdown",
   "metadata": {
    "nbgrader": {
     "grade": false,
     "grade_id": "cell-699e70fccfc6f274",
     "locked": true,
     "schema_version": 3,
     "solution": false,
     "task": false
    }
   },
   "source": [
    "A continuación, encuentras la descripción de las variables contenidas en la base de datos 'marketing_data.csv'. Utiliza esta información para dar respuesta a los ejercicios 3, 4 y 5."
   ]
  },
  {
   "cell_type": "markdown",
   "metadata": {
    "nbgrader": {
     "grade": false,
     "grade_id": "cell-612959502f49933b",
     "locked": true,
     "schema_version": 3,
     "solution": false,
     "task": false
    }
   },
   "source": [
    "| <center>Variable<center> | <center>Descripción<center> | \n",
    "| :--- | :--- | \n",
    "| ID | Identificador único del cliente |\n",
    "| Year_Birth | Año de nacimiento del cliente |\n",
    "| Education | Nivel máximo de escolaridad alcanzado|\n",
    "| Marital_Status | Estado conyugal |\n",
    "| Income | Ingresos anuales del hogar del cliente |\n",
    "| Kidhome | Número de niños en el hogar|\n",
    "| Teenhome | Número de adolescentes en el hogar|\n",
    "| Dt_Customer | Fecha de inscripción del cliente en la empresa |\n",
    "| Recency | Número de días desde la última compra del cliente |\n",
    "| MntWines | Gastos en vino durante los dos últimos años |\n",
    "| MntFruits | Gastos en frutas durante los dos últimos años |\n",
    "| MntMeatProducts | Gastos en productos cárnicos durante los dos últimos años |\n",
    "| MntFishProducts | Gastos en pescado durante los dos últimos años |\n",
    "| MntSweetProducts | Gastos en dulces durante los dos últimos años |\n",
    "| MntGoldProds | Gastos en oro durante los dos últimos años |\n",
    "| NumDealsPurchases | Número de compras realizadas con un descuento |\n",
    "| NumWebPurchases| Número de compras realizadas a través del sitio web de la empresa |\n",
    "| NumCatalogPurchases | Número de compras realizadas por catálogo |\n",
    "| NumStorePurchases | Número de compras realizadas directamente en las tiendas |\n",
    "| NumWebVisitsMonth | Número de visitas al sitio web de la empresa en el último mes |\n",
    "| AcceptedCmp1 | 1 si el cliente aceptó la oferta en la primera campaña, 0 en caso contrario |\n",
    "| Response | 1 si el cliente aceptó la oferta en la última campaña, 0 en caso contrario |\n",
    "| Complain | 1 si el cliente se ha quejado en los últimos 2 años, 0 en caso contrario |\n",
    "| Country | País de ubicación del cliente |\n"
   ]
  },
  {
   "cell_type": "code",
   "execution_count": null,
   "metadata": {
    "nbgrader": {
     "grade": false,
     "grade_id": "cell-fb529804f0c4d2a0",
     "locked": true,
     "schema_version": 3,
     "solution": false,
     "task": false
    },
    "scrolled": true
   },
   "outputs": [],
   "source": [
    "mercadeo = pd.read_csv('Archivos/marketing_data.csv')\n",
    "mercadeo.head()"
   ]
  },
  {
   "cell_type": "markdown",
   "metadata": {
    "nbgrader": {
     "grade": false,
     "grade_id": "cell-cefa021fe395b2cb",
     "locked": true,
     "schema_version": 3,
     "solution": false,
     "task": false
    }
   },
   "source": [
    "### Ejercicio 3\n",
    "Utiliza `plotly` para realizar un gráfico de dispersión que permita visualizar la relación que existe entre las variables 'Year_Birth' y 'MntWines'."
   ]
  },
  {
   "cell_type": "code",
   "execution_count": null,
   "metadata": {
    "nbgrader": {
     "grade": true,
     "grade_id": "cell-f8250a7a4c997032",
     "locked": false,
     "points": 1,
     "schema_version": 3,
     "solution": true,
     "task": false
    }
   },
   "outputs": [],
   "source": [
    "# Implementa tu respuesta en esta celda\n",
    "fig = go.Figure(data=go.Scatter(x=mercadeo['Year_Birth'], y=mercadeo['MntWines'],  mode='markers'))\n",
    "fig"
   ]
  },
  {
   "cell_type": "code",
   "execution_count": null,
   "metadata": {
    "nbgrader": {
     "grade": true,
     "grade_id": "cell-4bb4dc3dba9dcf38",
     "locked": false,
     "points": 1,
     "schema_version": 3,
     "solution": true,
     "task": false
    }
   },
   "outputs": [],
   "source": [
    "fig1 = go.FigureWidget(go.Figure(\n",
    "                data = [ \n",
    "                    # Tipo de visualización. En este caso definimos un diagrama de caja.\n",
    "                    go.Box(\n",
    "                            y = (mercadeo['Income'])/mercadeo['MntWines'], # Definimos los valores de la serie de datos.\n",
    "                            name = \"Grupo 1\",                       # Definimos nombre de la serie de datos.\n",
    "                            marker_color = 'yellow'                 # Definimos el color del diagrama.\n",
    "                               ),\n",
    "                       ],\n",
    "                # Modificamos el estilo del diseño.\n",
    "                layout = go.Layout(\n",
    "                                    title = \"Distribución valores\",  # Definimos el título del gráfico.\n",
    "                                    xaxis_title = \"Grupos\",          # Definimos el título del eje x.\n",
    "                                    yaxis_title = \"Valor\"            # Definimos el título del eje y.\n",
    "                                  )\n",
    "                )\n",
    "                      )"
   ]
  },
  {
   "cell_type": "markdown",
   "metadata": {
    "nbgrader": {
     "grade": false,
     "grade_id": "cell-8780f5e0051b0d78",
     "locked": true,
     "schema_version": 3,
     "solution": false,
     "task": false
    }
   },
   "source": [
    "### Ejercicio 4\n",
    "Utiliza `ipywidgets` para filtrar las observaciones de la base de datos de acuerdo con los siguentes criterios:\n",
    "1. Nivel máximo de escolaridad alcanzado.\n",
    "2. Número de niños en el hogar.\n",
    "3. Número de adolescentes en el hogar."
   ]
  },
  {
   "cell_type": "code",
   "execution_count": null,
   "metadata": {
    "nbgrader": {
     "grade": true,
     "grade_id": "cell-d462e01749cd00f2",
     "locked": false,
     "points": 1,
     "schema_version": 3,
     "solution": true,
     "task": false
    }
   },
   "outputs": [],
   "source": [
    "# Implementa tu respuesta en esta celda\n",
    "def filtrar(Escolaridad, Num_Ninos, Num_Adolescentes):\n",
    "    # Guardamos las columnas de interés en un nuevo DataFrame.\n",
    "    DF = mercadeo[['ID','Year_Birth','Education','Marital_Status','Income', 'Kidhome', 'Teenhome']]\n",
    "    # Los siguientes cuatro casos ajustan los registros a mostrar de acuerdo con la selección del usuario.\n",
    "    if  Escolaridad != \"Todos\" and Num_Ninos != \"Todos\":\n",
    "        display(DF[(DF[\"Education\"] == Escolaridad) & (DF[\"Kidhome\"] == Num_Ninos)\n",
    "                   & (DF[\"Teenhome\"] == Num_Adolescentes)])\n",
    "    elif Escolaridad == \"Todos\":\n",
    "        display(DF[(DF[\"Kidhome\"] == Num_Ninos) & (DF[\"Teenhome\"] == Num_Adolescentes)])\n",
    "    elif Num_Ninos == \"Todos\":\n",
    "        display(DF[(DF[\"Education\"] == Escolaridad) & (DF[\"Teenhome\"] == Num_Adolescentes)])\n",
    "    else:\n",
    "        display(DF[(DF[\"Teenhome\"] == Num_Adolescentes)])\n",
    "        \n",
    "def valores_filtro_columna(columna):\n",
    "    columna = columna.astype(str)       # Convertimos en str los valores de la columna que entra por parámetro.\n",
    "    valores = columna.unique().tolist() # Guardamos una lista con los valores únicos de la columna que entra por parámetro.\n",
    "    valores = sorted(valores)           # Organizamos la lista de valores únicos de manera ascedente.\n",
    "    valores.insert(0, \"Todos\")          # Agregamos el elemento \"Todos\" en la primera posición de la lista.\n",
    "    return valores \n",
    "        \n",
    "interactive_plot = interactive(\n",
    "                                filtrar, \n",
    "                                Escolaridad = valores_filtro_columna(mercadeo[\"Education\"]),\n",
    "                                Num_Ninos = (0, 2, 1),\n",
    "                                Num_Adolescentes = (0, 2, 1)\n",
    "                              )\n",
    "\n",
    "display(interactive_plot)"
   ]
  },
  {
   "cell_type": "markdown",
   "metadata": {
    "nbgrader": {
     "grade": false,
     "grade_id": "cell-17898209587a187e",
     "locked": true,
     "schema_version": 3,
     "solution": false,
     "task": false
    }
   },
   "source": [
    "### Ejercicio 5\n",
    "Utiliza `ipywidgets` y `plotly` para generar un gráfico con controles que:\n",
    "1. Cuente con un control para seleccionar una de las variable de Gastos frente a los ingresos.\n",
    "1. Genere un gráfico de dispersión\n",
    "2. Genere un diagrama de caja."
   ]
  },
  {
   "cell_type": "code",
   "execution_count": null,
   "metadata": {
    "nbgrader": {
     "grade": true,
     "grade_id": "cell-2a14b99ae1ab7ad7",
     "locked": false,
     "points": 1,
     "schema_version": 3,
     "solution": true,
     "task": false
    }
   },
   "outputs": [],
   "source": [
    "wid=widgets.Dropdown(\n",
    "    description = 'Comparamos el salario con:',\n",
    "    options=['MntWines', 'MntFruits', 'MntMeatProducts', 'MntFishProducts', 'MntSweetProducts', 'MntGoldProds'],\n",
    "    style = {'description_width': 'initial'}\n",
    ")\n",
    "\n",
    "fig1 = go.FigureWidget(go.Figure(\n",
    "                data = [ \n",
    "                    # Tipo de visualización. En este caso definimos un diagrama de caja.\n",
    "                    go.Box(\n",
    "                            y = (mercadeo['Income']), # Definimos los valores de la serie de datos.\n",
    "                            \n",
    "                            marker_color = 'yellow'                 # Definimos el color del diagrama.\n",
    "                               ),\n",
    "                       ],\n",
    "                # Modificamos el estilo del diseño.\n",
    "                layout = go.Layout(\n",
    "                                    title = \"Diagrama de caja del ingreso.\",\n",
    "                                    yaxis_title = \"Ingreso\"            # Definimos el título del eje y.\n",
    "                                  )\n",
    "                )\n",
    "                      )\n",
    "\n",
    "fig2 = go.FigureWidget(go.Figure(data=go.Scatter(x=mercadeo['MntWines'], y=mercadeo['Income'],  mode='markers'),\n",
    "                                layout = go.Layout(\n",
    "                                    title = \"Diagrama de dispersión del ingreso frente al costo.\", \n",
    "                                    xaxis_title = wid.value,\n",
    "                                    yaxis_title = \"Ingreso\"            # Definimos el título del eje y.\n",
    "                                  )))\n",
    "\n",
    "def filtrar():\n",
    "\n",
    "    fig1.data[0].y = (mercadeo['Income'])\n",
    "    fig2.data[0].x = mercadeo[wid.value] \n",
    "    \n",
    "def respuesta(change):\n",
    "    filtrar()\n",
    "\n",
    "wid.observe(respuesta, names = 'value')\n",
    "\n",
    "filtrar()\n",
    "\n",
    "visualizacion = widgets.VBox(\n",
    "              [wid,\n",
    "              fig2,\n",
    "              fig1]\n",
    "            )\n",
    "\n",
    "display(visualizacion)"
   ]
  },
  {
   "cell_type": "markdown",
   "metadata": {
    "nbgrader": {
     "grade": false,
     "grade_id": "cell-2fa3d05e2132886b",
     "locked": true,
     "schema_version": 3,
     "solution": false,
     "task": false
    }
   },
   "source": [
    "## Referencias\n",
    " \n",
    "Daoud, J (2020). Marketing Analytics. Recuperado el 11 de febrero de 2021 de: https://www.kaggle.com/jackdaoud/marketing-data\n",
    "\n",
    "Goyal, S (2020). Credit Card customers. Recuperado el 11 de febrero de 2021 de: https://www.kaggle.com/sakshigoyal7/credit-card-customers"
   ]
  },
  {
   "cell_type": "markdown",
   "metadata": {
    "nbgrader": {
     "grade": false,
     "grade_id": "cell-431aff6407e8b147",
     "locked": true,
     "schema_version": 3,
     "solution": false,
     "task": false
    }
   },
   "source": [
    "## Créditos\n",
    "\n",
    "**Autor(es):** Juan David Reyes Jaimes, Diego Alejandro Cely Gómez\n",
    "\n",
    "**Fecha última actualización:** 17/09/2021"
   ]
  }
 ],
 "metadata": {
  "celltoolbar": "Create Assignment",
  "kernelspec": {
   "display_name": "Python 3",
   "language": "python",
   "name": "python3"
  },
  "language_info": {
   "codemirror_mode": {
    "name": "ipython",
    "version": 3
   },
   "file_extension": ".py",
   "mimetype": "text/x-python",
   "name": "python",
   "nbconvert_exporter": "python",
   "pygments_lexer": "ipython3",
   "version": "3.7.10"
  }
 },
 "nbformat": 4,
 "nbformat_minor": 4
}
