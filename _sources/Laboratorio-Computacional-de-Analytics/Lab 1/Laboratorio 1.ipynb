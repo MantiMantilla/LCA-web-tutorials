{
 "cells": [
  {
   "cell_type": "markdown",
   "metadata": {
    "nbgrader": {
     "grade": false,
     "grade_id": "header",
     "locked": true,
     "schema_version": 3,
     "solution": false,
     "task": false
    }
   },
   "source": [
    "<img src=\"Archivos/miad4.png\" width=800x>\n",
    "\n",
    "# Laboratorio 1\n",
    "\n",
    "## Hito: desarrollo de una herramienta analítica usando solo Python\n",
    "\n",
    "Este laboratorio busca evaluar las habilidades relacionadas con la primera parte del curso, correspondiente a las primeras tres semanas. Este enunciado estará disponible desde la semana 2 y deberá entregarse al final de la semana 5 en el enlace correspondiente. Su desarrollo corresponde al 33% de la calificación total del curso.\n",
    "\n",
    "Al desarrollar este laboratorio pondrás a prueba tus habilidades para: \n",
    "1. Leer datos desde archivos.\n",
    "2. Almacenar datos en  estructuras de Python.\n",
    "3. Crear y llamar funciones correctamente.\n",
    "4. Implementar condicionales diferenciando `if`, `elif` y `else`.\n",
    "5. Implementar ciclos diferenciando el propósito de `for` y `while`.\n",
    "6. Importar paquetes y utilizar sus funciones.\n",
    "\n",
    "**NOTAS:**\n",
    "\n",
    "- Te recomendamos leer por completo el enunciado del laboratorio antes de comenzar, de forma que tengas claro el propósito completo de la actividad, y puedas desarrollar tu solución apuntando a él desde el comienzo.\n",
    "\n",
    "- En el contenido de Coursera encontrarás la lectura *Pistas*. En esta te damos algunas pautas que puedes usar si estás teniendo dificultades con alguna misión; evidentemente, tu experiencia será mucho más gratificante si logras desarrollar la actividad sin acudir a ellas.\n"
   ]
  },
  {
   "cell_type": "markdown",
   "metadata": {
    "nbgrader": {
     "grade": false,
     "grade_id": "contexto",
     "locked": true,
     "schema_version": 3,
     "solution": false,
     "task": false
    }
   },
   "source": [
    "## Contexto: exploración del potencial para asignar becas Uniandes\n",
    "\n",
    "La Universidad de los Andes se ha caracterizado por su compromiso con la generación de impacto en la sociedad a través de diferentes programas de becas. Programas como Quiero Estudiar o Ser Pilo Paga, entre otros, han sido revolucionarios al permitir que estudiantes de bajos recursos puedan acceder a una de las universidades privadas más importantes del país.\n",
    "\n",
    "Actualmente, la universidad quiere evaluar el potencial impacto que tendrían algunos programas de *acción afirmativa* para asignación de becas, con base en información demográfica que ha obtenido a través de encuestas. Se cuenta con información respecto a la edad, género, estado civil, estrato socio-económico, región de proveniencia, desempeño académico y nivel de escolaridad de las personas que han respondido encuestas. Los encargados de diseñar el programa saben que utilizar criterios basados en este tipo de variables es un tema sensible, pero es necesario si se quieren focalizar las oportunidades en poblaciones menos representadas.\n",
    "\n",
    "El objetivo de este laboratorio es crear una herramienta computacional que permita a un tomador de decisiones explorar qué efecto podría tener el uso de diferentes reglas para seleccionar la población que sería beneficiaria de las becas. Puntualmente, se espera que, dadas unas reglas de selección (ej.: pertenecer a cierta región, rango de edad, etc.), la herramienta ofrezca información sobre la población potencialmente beneficiada, de forma que exista un sustento al momento de definir las reglas de selección."
   ]
  },
  {
   "cell_type": "markdown",
   "metadata": {
    "nbgrader": {
     "grade": false,
     "grade_id": "ej1-enun",
     "locked": true,
     "schema_version": 3,
     "solution": false,
     "task": false
    }
   },
   "source": [
    "## 1. Obtención e inspección de archivos\n",
    "\n",
    "Los datos de encuestas fueron obtenidos como parte de un trabajo de campo, y por limitaciones tecnológicas, solo se cuenta con la información en archivos de texto plano. Cada archivo corresponde a uno de los atributos antes mencionados y están estructurados de forma que todos relacionan a las personas encuestadas en el mismo orden (i.e., la primera línea de todos los archivos corresponde a datos de la primera persona encuestada, la segunda línea a la segunda persona, etc.).\n",
    "\n",
    "Los archivos con los que se cuenta son:\n",
    "* `\"edad.txt\"`: un archivo ordenado con las edades de cada persona de la población encuestada \n",
    "* `\"genero.txt\"`: un archivo ordenado con el género de cada persona de la población encuestada \n",
    "* `\"estado_civil.txt\"`: un archivo ordenado con el estado civil de cada persona de la población encuestada \n",
    "* `\"escolaridad.txt\"`: un archivo ordenado con el nivel de escolaridad de cada persona de la población encuestada \n",
    "* `\"estrato.txt\"`: un archivo ordenado con el estrato socio-económico de cada persona de la población encuestada\n",
    "* `\"region.txt\"`: un archivo ordenado con la región de proveniencia de cada persona de la población encuestada\n",
    "* `\"promedio.txt\"`: un archivo ordenado con el promedio académico de cada persona de la población encuestada"
   ]
  },
  {
   "cell_type": "markdown",
   "metadata": {
    "nbgrader": {
     "grade": false,
     "grade_id": "ej1-mis1-enun",
     "locked": true,
     "schema_version": 3,
     "solution": false,
     "task": false
    }
   },
   "source": [
    "#### Misión 1\n",
    "\n",
    "Poner en variables de Python la información que está en los archivos listados arriba.\n",
    "\n",
    "* *Versión base*: escribe línea a línea el código necesario para poner en variables de Python la información de cada uno de los archivos.\n",
    "\n",
    "* *Milla extra*: escribe una función que sea capaz de hacer lo anterior para un archivo y úsala en un ciclo para automatizar la lectura de los diferentes archivos."
   ]
  },
  {
   "cell_type": "code",
   "execution_count": 1,
   "metadata": {
    "nbgrader": {
     "grade": true,
     "grade_id": "ej1-mis1-sol",
     "locked": false,
     "points": 5,
     "schema_version": 3,
     "solution": true,
     "task": false
    }
   },
   "outputs": [],
   "source": [
    "# código\n",
    "\n",
    "# definición de variables globales importantes\n",
    "POBLACION_TOTAL = {}\n",
    "VARIABLES = ['edad', 'genero', 'estado_civil', 'escolaridad', 'estrato', 'region', 'promedio']\n",
    "\n",
    "\n",
    "# función que recibe un path de un archivo y retorna una lista con las líneas de texto del mismo\n",
    "def cargar_archivo(filepath):\n",
    "    with open(filepath, \"r\") as f:\n",
    "        datos = f.readlines()\n",
    "    return [d.strip() for d in datos]\n",
    "\n",
    "# ciclo con el que aplicamos la función anterior a todos los archivos que nos interesan\n",
    "for var in VARIABLES:\n",
    "    POBLACION_TOTAL[var] = cargar_archivo(\"Archivos/\"+var+\".txt\")\n",
    "    if var==\"edad\" or var==\"estrato\":\n",
    "        POBLACION_TOTAL[var] = [int(d) for d in POBLACION_TOTAL[var]]\n",
    "    elif var==\"promedio\":\n",
    "        POBLACION_TOTAL[var] = [float(d) for d in POBLACION_TOTAL[var]]\n",
    "\n",
    "MAX_BECAS = int(.05*len(POBLACION_TOTAL[\"estrato\"]))"
   ]
  },
  {
   "cell_type": "markdown",
   "metadata": {
    "nbgrader": {
     "grade": false,
     "grade_id": "ej1-mis2-enun",
     "locked": true,
     "schema_version": 3,
     "solution": false,
     "task": false
    }
   },
   "source": [
    "#### Misión 2\n",
    "\n",
    "Reportar las principales características en los datos.\n",
    "* *Versión base*: utilizar métricas básicas como conteos o promedios por categorías en los datos.\n",
    "* *Milla extra*: utilizar visualizaciones simples como diagramas de barras, de pastel u otros."
   ]
  },
  {
   "cell_type": "code",
   "execution_count": null,
   "metadata": {
    "nbgrader": {
     "grade": true,
     "grade_id": "ej1-mis2-sol",
     "locked": false,
     "points": 5,
     "schema_version": 3,
     "solution": true,
     "task": false
    }
   },
   "outputs": [],
   "source": [
    "# código\n",
    "\n",
    "# importación de paquetes necesarios\n",
    "import matplotlib.pyplot as plt\n",
    "from math import sqrt\n",
    "\n",
    "# función que calcula la mediana de una lista de datos numéricos\n",
    "def median(lista):\n",
    "    l = len(lista)\n",
    "    lista.sort\n",
    "    if l%2==0:        \n",
    "        return sum(lista[int(l/2-1):int(l/2)])/2\n",
    "    else:\n",
    "        return (lista[int(l/2)])/2\n",
    "        \n",
    "# función que calcula la desviación de una lista de datos numéricos\n",
    "def desv(lista):\n",
    "    media = sum(lista)/len(lista)\n",
    "    return sqrt(sum([(d-media)**2 for d in lista]))\n",
    "\n",
    "'''\n",
    "función que visualiza las características de una población dada\n",
    "(nota que la variable 'poblacion' es local; podemos pasar cualquier población a la función)\n",
    "'''\n",
    "def ver_distribuciones_variables(poblacion):\n",
    "    for var in VARIABLES:        \n",
    "        if isinstance(poblacion[var][0], int) or isinstance(poblacion[var][0], float):\n",
    "            media = sum(poblacion[var])/len(poblacion[var])\n",
    "            mediana = median(poblacion[var])\n",
    "            desviacion = desv(poblacion[var])\n",
    "            maximo = max(poblacion[var])\n",
    "            minimo = min(poblacion[var])\n",
    "            plt.hist(poblacion[var])\n",
    "            plt.title(\"Distribución de la variable: \"+str(var))\n",
    "            plt.show()\n",
    "        else:        \n",
    "            conteo = {}\n",
    "            for valor in poblacion[var]:\n",
    "                if valor not in conteo:\n",
    "                    conteo[valor] = poblacion[var].count(valor)        \n",
    "            plt.bar(conteo.keys(), conteo.values())\n",
    "            plt.title(\"Distribución de la variable: \"+str(var))\n",
    "            plt.show()\n",
    "\n",
    "ver_distribuciones_variables(POBLACION_TOTAL)"
   ]
  },
  {
   "cell_type": "markdown",
   "metadata": {
    "nbgrader": {
     "grade": false,
     "grade_id": "ej2-enun",
     "locked": true,
     "schema_version": 3,
     "solution": false,
     "task": false
    }
   },
   "source": [
    "## 2. Abordaje de la pregunta de negocio\n",
    "\n",
    "El comité encargado de diseñar el programa de becas ha tenido dificultades para llegar a acuerdos. Algunos piensan que el criterio principal de selección debería ser respecto a lo económico y académico, sin importar otras características personales, mientras que otros piensan que considerar estas características es, de hecho, parte del espíritu del programa.\n",
    "\n",
    "* El *primer grupo* sugiere que se deben tomar en orden ascendente los estratos y elegir, en cada uno de ellos, al 2% de personas con promedio académico superior en esa sub-población, hasta que se agoten las becas disponibles. En caso de quedar becas disponibles al final del proceso, se repite el mismo esquema, considerando que ya no se tienen en cuenta las personas que hayan sido elegidas en rondas anteriores.\n",
    "\n",
    "* El *segundo grupo* sugiere que los recibidores de becas deben estar igualmente distribuidos entre las diferentes regiones y generos, considerando, por supuesto, que para cada una de esas sub-poblaciones, las personas elegidas sean las de mejores promedios académicos.\n",
    "\n",
    "Dado que las diferencias entre estos grupos obedecen a su entendimiento particular del problema, el presidente del comité propone utilizar los datos disponibles de las encuestas, sugiriendo que se analice qué características tendría la población de elegidos bajo cada uno de los dos criterios expuestos."
   ]
  },
  {
   "cell_type": "markdown",
   "metadata": {
    "nbgrader": {
     "grade": false,
     "grade_id": "ej2-mis3-enun",
     "locked": true,
     "schema_version": 3,
     "solution": false,
     "task": false
    }
   },
   "source": [
    "#### Misión 3\n",
    "\n",
    "Defina la pregunta de negocio y la pregunta de *analytics* para esta situación."
   ]
  },
  {
   "cell_type": "markdown",
   "metadata": {
    "nbgrader": {
     "grade": true,
     "grade_id": "ej2-mis3-sol",
     "locked": false,
     "points": 5,
     "schema_version": 3,
     "solution": true,
     "task": false
    }
   },
   "source": [
    "**respuesta en texto (solo leeremos los primeros 300 caracteres de la respuesta)**\n",
    "\n",
    "### BEGIN SOLUTION\n",
    "\n",
    "pregunta_negocio = 'qué criterios de asignación de becas ofrecen mejor relación ventajas/desventajas'\n",
    "\n",
    "pregunta_analytics = 'cómo reportar fácilmente qué características describen la potencial población beneficiada en función de ciertas reglas de selección'\n",
    "\n",
    "### END SOLUTION"
   ]
  },
  {
   "cell_type": "markdown",
   "metadata": {
    "nbgrader": {
     "grade": false,
     "grade_id": "ej2-mis4-enun",
     "locked": true,
     "schema_version": 3,
     "solution": false,
     "task": false
    }
   },
   "source": [
    "#### Misión 4\n",
    "\n",
    "Desarrollar un algoritmo que permita conocer la población que sería becada según los criterios propuestos por el *primer grupo*."
   ]
  },
  {
   "cell_type": "code",
   "execution_count": null,
   "metadata": {
    "nbgrader": {
     "grade": true,
     "grade_id": "ej2-mis4-sol",
     "locked": false,
     "points": 5,
     "schema_version": 3,
     "solution": true,
     "task": false
    }
   },
   "outputs": [],
   "source": [
    "# código\n",
    "def seleccion_grupo_1():    \n",
    "    print(\"Número de becas a asignar: \"+str(MAX_BECAS)+\"\\n\\n\")\n",
    "\n",
    "    estratos = list(set(POBLACION_TOTAL[\"estrato\"]))\n",
    "    estratos.sort()\n",
    "\n",
    "    becados = []\n",
    "    ronda = 0\n",
    "    hay_cupo = True\n",
    "    while hay_cupo and ronda<=MAX_BECAS:\n",
    "        ronda += 1\n",
    "        print(\"\\n_______________________   Ronda \"+str(ronda)+\"   _______________________\")\n",
    "        for e in estratos:        \n",
    "\n",
    "            indices_este_estrato = [i for i in range( len(POBLACION_TOTAL[\"estrato\"]) ) if POBLACION_TOTAL[\"estrato\"][i]==e and i not in becados]\n",
    "\n",
    "            promedios_este_estrato = [POBLACION_TOTAL[\"promedio\"][i] for i in indices_este_estrato]    \n",
    "\n",
    "            ordenados = promedios_este_estrato.copy()\n",
    "            ordenados.sort(reverse=True)\n",
    "\n",
    "            top_2 = max([1, int(.02*len(ordenados))])\n",
    "            corte = ordenados[top_2]\n",
    "\n",
    "            ix_seleccionados = [i for i in range(len(indices_este_estrato)) if promedios_este_estrato[i]>=corte]\n",
    "            ix_seleccionados = [indices_este_estrato[i] for i in ix_seleccionados]\n",
    "\n",
    "            if len(becados)+len(ix_seleccionados) > MAX_BECAS:\n",
    "                hay_cupo =False\n",
    "                print(\"\\n      Estrato \"+str(e)+\":\\t[]\")\n",
    "            else:\n",
    "                becados += ix_seleccionados\n",
    "                print(\"\\n      Estrato \"+str(e)+\":\\t\"+str(ix_seleccionados))\n",
    "    return becados\n",
    "\n",
    "becados_1 = seleccion_grupo_1()\n",
    "becados_1"
   ]
  },
  {
   "cell_type": "markdown",
   "metadata": {
    "nbgrader": {
     "grade": false,
     "grade_id": "ej2-mis5-enun",
     "locked": true,
     "schema_version": 3,
     "solution": false,
     "task": false
    }
   },
   "source": [
    "#### Misión 5\n",
    "\n",
    "Desarrollar un algoritmo que permita conocer la población que sería becada según los criterios propuestos por el *segundo grupo*."
   ]
  },
  {
   "cell_type": "code",
   "execution_count": null,
   "metadata": {
    "nbgrader": {
     "grade": true,
     "grade_id": "ej2-mis5-sol",
     "locked": false,
     "points": 5,
     "schema_version": 3,
     "solution": true,
     "task": false
    }
   },
   "outputs": [],
   "source": [
    "# código\n",
    "\n",
    "def seleccion_grupo_2():\n",
    "    \n",
    "    regiones = list(set(POBLACION_TOTAL[\"region\"]))\n",
    "    regiones.sort()\n",
    "\n",
    "    generos = list(set(POBLACION_TOTAL[\"genero\"]))\n",
    "    generos.sort()\n",
    "\n",
    "    grupos = [(r,g) for r in regiones for g in generos]\n",
    "    becas_x_grupo = MAX_BECAS//len(grupos)\n",
    "    becados = []\n",
    "\n",
    "    print(\"Hay \"+str(len(grupos))+\" grupos y \"+str(MAX_BECAS)+\" becas; se asigna \"+str(becas_x_grupo)+\" a cada uno.\")\n",
    "\n",
    "    for (r,g) in grupos:    \n",
    "        ix_miembros = [i for i in range(len(POBLACION_TOTAL[\"region\"])) if POBLACION_TOTAL[\"region\"][i]==r and POBLACION_TOTAL[\"genero\"][i]==g] \n",
    "\n",
    "        promedio_miembros = [POBLACION_TOTAL[\"promedio\"][i] for i in ix_miembros]\n",
    "\n",
    "        if promedio_miembros:\n",
    "            ordenados = promedio_miembros.copy()\n",
    "            ordenados.sort(reverse=True)\n",
    "            corte = ordenados[becas_x_grupo-1]\n",
    "\n",
    "            ix_seleccionados = [i for i in ix_miembros if POBLACION_TOTAL[\"promedio\"][i]>=corte]\n",
    "            ix_seleccionados = ix_seleccionados[:becas_x_grupo]\n",
    "\n",
    "        else:\n",
    "            ix_seleccionados = []\n",
    "\n",
    "        print(\"\\nGrupo \"+str((r,g))+\":\\n\\t\"+str(ix_seleccionados))    \n",
    "        becados += ix_seleccionados\n",
    "    \n",
    "    return becados\n",
    "\n",
    "becados_2 = seleccion_grupo_2()\n",
    "becados_2"
   ]
  },
  {
   "cell_type": "markdown",
   "metadata": {
    "nbgrader": {
     "grade": false,
     "grade_id": "ej2-mis6-enun",
     "locked": true,
     "schema_version": 3,
     "solution": false,
     "task": false
    }
   },
   "source": [
    "#### Misión 6\n",
    "\n",
    "Desarrollar un algoritmo, a partir de lo anterior, cuyo resultado permita al comité comparar fácilmente las características de las dos poblaciones hipotéticas que recibirían becas.\n",
    "\n",
    "*Ayuda*: considere utilizar sus implementaciones de la [Misión 2](#Misión-2) para facilitar esta misión."
   ]
  },
  {
   "cell_type": "code",
   "execution_count": null,
   "metadata": {
    "nbgrader": {
     "grade": true,
     "grade_id": "ej2-mis6-sol",
     "locked": false,
     "points": 5,
     "schema_version": 3,
     "solution": true,
     "task": false
    }
   },
   "outputs": [],
   "source": [
    "# código\n",
    "def filtrar_poblacion(poblacion, indices):\n",
    "    pob = {}\n",
    "    for var in VARIABLES:\n",
    "        pob[var] = [poblacion[var][i] for i in indices]\n",
    "    return pob\n",
    "    \n",
    "poblacion_grupo_1 = filtrar_poblacion(POBLACION_TOTAL, becados_1)\n",
    "poblacion_grupo_2 = filtrar_poblacion(POBLACION_TOTAL, becados_2)\n",
    "\n",
    "print(\"\\nRESULTADOS GRUPO 1\\n\")\n",
    "ver_distribuciones_variables(poblacion_grupo_1)\n",
    "print(\"\\nRESULTADOS GRUPO 2\\n\")\n",
    "ver_distribuciones_variables(poblacion_grupo_2)"
   ]
  },
  {
   "cell_type": "markdown",
   "metadata": {
    "nbgrader": {
     "grade": false,
     "grade_id": "ej3-enun",
     "locked": true,
     "schema_version": 3,
     "solution": false,
     "task": false
    }
   },
   "source": [
    "## 3. Desarrollo de una solución analítica\n",
    "\n",
    "Reconociendo la complejidad de este problema (que no permite reducirlo a una dicotomía) y viendo el potencial del análisis de datos para enriquecer la discusión y los insumos para tomar decisiones, el comité ha solicitado una herramienta analítica. Sus requerimientos son:\n",
    "\n",
    "* La herramienta debe permitir ingresar una política de selección de becados.\n",
    "    * Se debe poder elegir el rango de edad de los aspirantes.\n",
    "    * Se debe poder elegir qué proporción de las becas se asigna a cada género, a cada estrato, o a cada región (pero sólo debe elegirse uno de estos criterios).\n",
    "* La herramienta debe generar un resultado que permita al comité analizar las características de la población potencialmente elegida si se usara la política ingresada."
   ]
  },
  {
   "cell_type": "markdown",
   "metadata": {
    "nbgrader": {
     "grade": false,
     "grade_id": "ej3-mis7-enun",
     "locked": true,
     "schema_version": 3,
     "solution": false,
     "task": false
    }
   },
   "source": [
    "#### Misión 7\n",
    "\n",
    "Desarrollar, a partir de lo construido hasta el momento, un algoritmo que permita cumplir con los requerimientos del comité."
   ]
  },
  {
   "cell_type": "code",
   "execution_count": null,
   "metadata": {
    "nbgrader": {
     "grade": true,
     "grade_id": "ej3-mis7-sol",
     "locked": false,
     "points": 5,
     "schema_version": 3,
     "solution": true,
     "task": false
    }
   },
   "outputs": [],
   "source": [
    "# código\n",
    "rango_edad = (16,28)\n",
    "criterio_a_usar = ''\n",
    "distribucion = {}\n",
    "becados = []\n",
    "\n",
    "def seleccion(poblacion, rango, criterio, distribucion):\n",
    "    \n",
    "    ix_cumple_edad = [i for i in range(len(poblacion[\"edad\"])) \n",
    "                              if poblacion[\"edad\"][i]>=rango[0] \n",
    "                                and poblacion[\"edad\"][i]<=rango[1]]\n",
    "    \n",
    "    poblacion = filtrar_poblacion(poblacion, ix_cumple_edad)\n",
    "    \n",
    "    for categoria in distribucion:\n",
    "        ix_categoria = [i for i in range(len(poblacion[criterio])) if poblacion[criterio]==categoria]\n",
    "        \n",
    "        promedios_categoria = [poblacion[\"promedio\"][i] for i in ix_categoria]\n",
    "        \n",
    "        ordenados = promedios_categoria.copy()\n",
    "        ordenados.sort(reverse=True)\n",
    "        \n",
    "        cupos = max(1, int(max_becas*distribucion[categoria]))\n",
    "        corte = ordenados[cupos-1]\n",
    "        \n",
    "        ix_seleccionados = [i for i in ix_categoria if poblacion[promedio][i]>=corte]\n",
    "        ix_seleccionados = ix_seleccionados[:cupos]\n",
    "                \n",
    "        becados += ix_seleccionados\n",
    "        \n",
    "        poblacion_becada = filtrar_poblacion(poblacion_total, becados)\n",
    "        ver_distribuciones_variables(poblacion_becada)\n",
    "        \n",
    "        return becados\n",
    "        \n",
    "    \n",
    "    \n",
    "    "
   ]
  },
  {
   "cell_type": "markdown",
   "metadata": {
    "nbgrader": {
     "grade": false,
     "grade_id": "ej3-mis8-enun",
     "locked": true,
     "schema_version": 3,
     "solution": false,
     "task": false
    }
   },
   "source": [
    "#### Misión 8\n",
    "\n",
    "Proponer, con base en tu propio uso de la herramienta, una política de ingreso que consideres apropiada en este contexto. Si lo crees adecuado, explica en máximo 500 caracteres las virtudes de tu propuesta (esto puede estar soportado en los datos, o no)."
   ]
  },
  {
   "cell_type": "markdown",
   "metadata": {
    "nbgrader": {
     "grade": true,
     "grade_id": "ej3-mis8-sol",
     "locked": false,
     "points": 5,
     "schema_version": 3,
     "solution": true,
     "task": false
    }
   },
   "source": [
    "**respuesta en texto (solo leeremos los primeros 500 caracteres de la respuesta)**\n",
    "\n"
   ]
  },
  {
   "cell_type": "markdown",
   "metadata": {
    "nbgrader": {
     "grade": false,
     "grade_id": "ej3-mis9-enun",
     "locked": true,
     "schema_version": 3,
     "solution": false,
     "task": false
    }
   },
   "source": [
    "#### Misión 9\n",
    "\n",
    "Ejecutar el algoritmo desarrollado en la [Misión 7](#Misión-7) sobre la política que sugieres proponer al comité. Explicar claramente tus conlusiones con el soporte de los resultados de la herramienta."
   ]
  },
  {
   "cell_type": "code",
   "execution_count": null,
   "metadata": {
    "nbgrader": {
     "grade": true,
     "grade_id": "ej3-mis9-sol",
     "locked": false,
     "points": 5,
     "schema_version": 3,
     "solution": true,
     "task": false
    }
   },
   "outputs": [],
   "source": [
    "# código\n"
   ]
  },
  {
   "cell_type": "markdown",
   "metadata": {
    "nbgrader": {
     "grade": false,
     "grade_id": "refs",
     "locked": true,
     "schema_version": 3,
     "solution": false,
     "task": false
    }
   },
   "source": [
    "## Referencias\n",
    "* Discriminación Positiva<br> \n",
    "https://es.wikipedia.org/wiki/Discriminaci%C3%B3n_positiva\n",
    "* Análisis de formulación del programa “Ser Pilo Paga”<br>\n",
    "https://repository.urosario.edu.co/handle/10336/12526\n",
    "* La acción afirmativa en la Universidad de los Andes: El caso del programa \"Oportunidades para talentos nacionales\"<br> http://www.scielo.org.co/scielo.php?script=sci_arttext&pid=S0123-885X2004000300005\n",
    "* Acción afirmativa y equidad: un análisis desde la propuesta de Thomas Nagel<br>\n",
    "http://www.scielo.org.mx/scielo.php?script=sci_arttext&pid=S2007-24062016000200049"
   ]
  },
  {
   "cell_type": "markdown",
   "metadata": {
    "nbgrader": {
     "grade": false,
     "grade_id": "creds",
     "locked": true,
     "schema_version": 3,
     "solution": false,
     "task": false
    }
   },
   "source": [
    "## Créditos\n",
    "\n",
    "__Autor__: Camilo Gomez\n",
    " \n",
    "__Fecha última actualización__: 17/09/2021"
   ]
  }
 ],
 "metadata": {
  "celltoolbar": "Create Assignment",
  "kernelspec": {
   "display_name": "Python 3",
   "language": "python",
   "name": "python3"
  },
  "language_info": {
   "codemirror_mode": {
    "name": "ipython",
    "version": 3
   },
   "file_extension": ".py",
   "mimetype": "text/x-python",
   "name": "python",
   "nbconvert_exporter": "python",
   "pygments_lexer": "ipython3",
   "version": "3.7.10"
  }
 },
 "nbformat": 4,
 "nbformat_minor": 1
}
